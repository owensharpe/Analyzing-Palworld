{
 "cells": [
  {
   "cell_type": "markdown",
   "metadata": {},
   "source": [
    "# Analysis and Interpretation of PalWorld Data\n",
    "#### Team Group Number: 8\n",
    "- Kerbs Downing\n",
    "- Owen Sharpe"
   ]
  },
  {
   "cell_type": "code",
   "execution_count": 21,
   "metadata": {
    "ExecuteTime": {
     "end_time": "2024-08-18T15:08:03.293897Z",
     "start_time": "2024-08-18T15:08:03.209947Z"
    }
   },
   "outputs": [],
   "source": [
    "# Put all the module import in this code chunk\n",
    "import requests \n",
    "from bs4 import BeautifulSoup\n",
    "import pandas as pd\n",
    "import re\n",
    "import matplotlib.pyplot as plt\n",
    "import plotly.express as px\n",
    "import seaborn as sns\n",
    "from sklearn.model_selection import KFold\n",
    "from sklearn.ensemble import RandomForestRegressor\n",
    "from sklearn.metrics import mean_squared_error, r2_score\n",
    "from sklearn.decomposition import PCA\n",
    "import numpy as np\n",
    "from copy import copy\n",
    "import warnings\n",
    "warnings.simplefilter(action='ignore', category=FutureWarning)"
   ]
  },
  {
   "cell_type": "markdown",
   "metadata": {},
   "source": [
    "## Introduction\n",
    "\n",
    "Let's first start by introducing the idea of PalWorld. This multiplayer, open world survival game echoes similarities to Pokémon with its usage of trained companions who fight alongside you. Given that these companions, known as Pals, have so many unique characteristics, one can see how there are many different ways to conduct analysis on them.\n",
    "\n",
    "Each Pal contains specific features. Here are generally most of those features: name, rarity, level, element type, abilities, combat power, average attack, defense, health points, average speed, stamina, price. There are a couple other features which we have decided not to conduct research on, but are still relatively impactful on deciding the uniqueness of a Pal. When doing an analysis on these Pals, we can possibly find important conclusions and visualizations which can provide gameplay advantages. \n",
    "\n",
    "## Research Question\n",
    "\n",
    "Getting more specific, we can create research questions which will lead us to uncovering some trends we find in the data. Here are two of these questions:\n",
    "\n",
    "1. Are There Distinctions/Advantages to Certain Pal Element Types?\n",
    "2. Do Certain Features (i.e. price, rarity, health points) impact a Pals combat power?"
   ]
  },
  {
   "cell_type": "markdown",
   "metadata": {},
   "source": [
    "## Data \n",
    "\n",
    "### Data Source\n",
    "\n",
    "We scraped our data from https://palworld.gg/pals.\n",
    "\n",
    "From this website, for each pal (164 in total) we scraped the following features:\n",
    "- Name\n",
    "- Rarity\n",
    "- Level\n",
    "- Element Type\n",
    "- Abilities\n",
    "- Combat Power (CP)\n",
    "- Average Attack\n",
    "- Defense\n",
    "- Health Points (HP)\n",
    "- Average Speed\n",
    "- Stamina\n",
    "- Price\n",
    "\n",
    "[(Here's a link to an example for a singular pal)](https://palworld.gg/pal/frostallion-noct)\n",
    "\n",
    "We really didn't have to clean anything specifically because the data online is formatted nicely. We scraped everything into a dataframe and then exported it as a CSV file titled `palworld.csv`. From here, the data can be used and processed with the pandas module.\n",
    "\n",
    "### Webscraping and cleaning functions overview\n",
    "\n",
    "- `get_pal_names(url)`\n",
    "    - This function scrapes names from the pal-world database.\n",
    "- `get_pal_data(name)`    \n",
    "    - This function scrapes the required features for an individual pal.\n",
    "- `create_pal_dataframe(pal_names)`\n",
    "    - This function creates a dataframe containing specific data for each pal.\n",
    "\n",
    "### Data overview\n",
    "\n",
    "Here's a sample of our dataframe:"
   ]
  },
  {
   "cell_type": "code",
   "execution_count": 22,
   "outputs": [
    {
     "data": {
      "text/plain": "      Name  Rarity  Level Element Type  \\\n0   Anubis    Epic     10        Earth   \n1    Arsox  Common      4         Fire   \n2  Astegon    Epic      9   DragonDark   \n3  Azurobe    Rare      7  WaterDragon   \n4   Beakon    Rare      6  Electricity   \n\n                                           Abilities     CP  Avg. Attack  \\\n0  [{'name': 'Stone Blast', 'level': 1, 'power': ...  350.0        130.0   \n1  [{'name': 'Ignis Blast', 'level': 1, 'power': ...  277.5         97.5   \n2  [{'name': 'Dragon Cannon', 'level': 1, 'power'...  337.5        112.5   \n3  [{'name': 'Aqua Gun', 'level': 1, 'power': 40,...  295.0         85.0   \n4  [{'name': 'Air Cannon', 'level': 1, 'power': 2...  292.5        107.5   \n\n   Defense   HP  Avg. Speed  Stamina  Price  \n0      100  120  626.666667      100   4960  \n1       95   85  495.666667      100   3520  \n2      125  100  500.000000      300   8200  \n3      100  110  491.666667      100   5600  \n4       80  105  683.333333      160   7490  ",
      "text/html": "<div>\n<style scoped>\n    .dataframe tbody tr th:only-of-type {\n        vertical-align: middle;\n    }\n\n    .dataframe tbody tr th {\n        vertical-align: top;\n    }\n\n    .dataframe thead th {\n        text-align: right;\n    }\n</style>\n<table border=\"1\" class=\"dataframe\">\n  <thead>\n    <tr style=\"text-align: right;\">\n      <th></th>\n      <th>Name</th>\n      <th>Rarity</th>\n      <th>Level</th>\n      <th>Element Type</th>\n      <th>Abilities</th>\n      <th>CP</th>\n      <th>Avg. Attack</th>\n      <th>Defense</th>\n      <th>HP</th>\n      <th>Avg. Speed</th>\n      <th>Stamina</th>\n      <th>Price</th>\n    </tr>\n  </thead>\n  <tbody>\n    <tr>\n      <th>0</th>\n      <td>Anubis</td>\n      <td>Epic</td>\n      <td>10</td>\n      <td>Earth</td>\n      <td>[{'name': 'Stone Blast', 'level': 1, 'power': ...</td>\n      <td>350.0</td>\n      <td>130.0</td>\n      <td>100</td>\n      <td>120</td>\n      <td>626.666667</td>\n      <td>100</td>\n      <td>4960</td>\n    </tr>\n    <tr>\n      <th>1</th>\n      <td>Arsox</td>\n      <td>Common</td>\n      <td>4</td>\n      <td>Fire</td>\n      <td>[{'name': 'Ignis Blast', 'level': 1, 'power': ...</td>\n      <td>277.5</td>\n      <td>97.5</td>\n      <td>95</td>\n      <td>85</td>\n      <td>495.666667</td>\n      <td>100</td>\n      <td>3520</td>\n    </tr>\n    <tr>\n      <th>2</th>\n      <td>Astegon</td>\n      <td>Epic</td>\n      <td>9</td>\n      <td>DragonDark</td>\n      <td>[{'name': 'Dragon Cannon', 'level': 1, 'power'...</td>\n      <td>337.5</td>\n      <td>112.5</td>\n      <td>125</td>\n      <td>100</td>\n      <td>500.000000</td>\n      <td>300</td>\n      <td>8200</td>\n    </tr>\n    <tr>\n      <th>3</th>\n      <td>Azurobe</td>\n      <td>Rare</td>\n      <td>7</td>\n      <td>WaterDragon</td>\n      <td>[{'name': 'Aqua Gun', 'level': 1, 'power': 40,...</td>\n      <td>295.0</td>\n      <td>85.0</td>\n      <td>100</td>\n      <td>110</td>\n      <td>491.666667</td>\n      <td>100</td>\n      <td>5600</td>\n    </tr>\n    <tr>\n      <th>4</th>\n      <td>Beakon</td>\n      <td>Rare</td>\n      <td>6</td>\n      <td>Electricity</td>\n      <td>[{'name': 'Air Cannon', 'level': 1, 'power': 2...</td>\n      <td>292.5</td>\n      <td>107.5</td>\n      <td>80</td>\n      <td>105</td>\n      <td>683.333333</td>\n      <td>160</td>\n      <td>7490</td>\n    </tr>\n  </tbody>\n</table>\n</div>"
     },
     "execution_count": 22,
     "metadata": {},
     "output_type": "execute_result"
    }
   ],
   "source": [
    "pals_df = pd.read_csv('palworld.csv')\n",
    "pals_df.head()"
   ],
   "metadata": {
    "collapsed": false,
    "ExecuteTime": {
     "end_time": "2024-08-18T15:08:03.302269Z",
     "start_time": "2024-08-18T15:08:03.212568Z"
    }
   }
  },
  {
   "cell_type": "markdown",
   "source": [
    "We are most likely going to use all of these features in some regard. I wouldn't say we have a specific target value, but we may use combat power and element type (ice, dark, dragon, earth leaf, electricity, water, fire, normal) at some point. The other features go without saying, as their names generally address what their feature is; each Pal has a name, rarity (common, rare, epic, legendary), level (1-20), abilities (or skills), average attack, defense, hp (health points), average speed, stamina, and price.\n",
    "\n",
    "We cleaned up any missing values previously in the data scraping section, so there are no issues in the dataframe. There are some other skills known as 'partner skills' which we did not collect; those maybe could be useful in certain analysis scenarios. But overall, we generally had no concerns with our data."
   ],
   "metadata": {
    "collapsed": false
   }
  },
  {
   "cell_type": "markdown",
   "metadata": {},
   "source": [
    "## Webscraping and cleaning"
   ]
  },
  {
   "cell_type": "markdown",
   "source": [
    "##### Here Are The Functions We Have Written for Data Scraping and Preprocessing"
   ],
   "metadata": {
    "collapsed": false
   }
  },
  {
   "cell_type": "code",
   "execution_count": 23,
   "outputs": [],
   "source": [
    "def get_pal_names(url):\n",
    "    \"\"\" scrapes names from the pal-world database and creates a list of names\n",
    "    \n",
    "    Args:\n",
    "        url (str): an url \n",
    "        \n",
    "    Returns:\n",
    "        pal_names (list): a list containing the name of each pal\n",
    "    \"\"\"\n",
    "    \n",
    "    # get the html contents \n",
    "    feed = requests.get(url)\n",
    "    html = feed.text\n",
    "    \n",
    "    # use beautiful soup to parse the html file\n",
    "    palwrld_soup = BeautifulSoup(html)\n",
    "    \n",
    "    # get the pal list\n",
    "    pals = palwrld_soup.find('section', class_=\"pals-list\").find_all('div', class_='container')\n",
    "    \n",
    "    # now for each pal, add the name to a list\n",
    "    pal_names = []\n",
    "    for pal in pals:\n",
    "        name_feed = pal.find('div', class_='name')\n",
    "        name = re.sub(r'#\\d+', '', name_feed.get_text(strip=True)).strip().replace('  ', ' ')\n",
    "        \n",
    "        # add to list\n",
    "        pal_names.append(name)\n",
    "    \n",
    "    return pal_names\n",
    "\n",
    "\n",
    "def get_pal_data(name):\n",
    "    \"\"\" scrapes data for an individual pal\n",
    "    \n",
    "    Args:\n",
    "        name (str): an individual pal name\n",
    "        \n",
    "    Returns:\n",
    "        pal_data (list): a list containing some data of an individual pal\n",
    "    \"\"\"\n",
    "    \n",
    "    # construct the url - weird irregularity where 'Warsect Terra' demands two dashes\n",
    "    if name == 'Warsect Terra':\n",
    "        url = f'https://palworld.gg/pal/warsect--terra'\n",
    "    elif len(name.split(' ')) == 2:\n",
    "        fpart = name.lower().split(' ')[0]\n",
    "        spart = name.lower().split(' ')[1]\n",
    "        url = f'https://palworld.gg/pal/{fpart}-{spart}'\n",
    "    else:\n",
    "        url = f'https://palworld.gg/pal/{name.lower()}'\n",
    "            \n",
    "    # get the page html for the pal\n",
    "    pal_feed = requests.get(url)\n",
    "    pal_html = pal_feed.text\n",
    "    \n",
    "    # now use beautiful soup to get the data we want\n",
    "    pal_soup = BeautifulSoup(pal_html)\n",
    "    \n",
    "    \"\"\"\n",
    "    we want to get the level, rarity, element type, number of abilities, avg attack, defense, \n",
    "    speed, health points, stamina, and combat power\n",
    "    \"\"\"\n",
    "    \n",
    "    # get level, rarity, and type\n",
    "    level = int(pal_soup.find('div', class_='lv').get_text(strip=True))\n",
    "    rarity = pal_soup.find('div', class_='rarity').find('div', class_='name').get_text(strip=True)\n",
    "    element_type = pal_soup.find('div', class_='elements').get_text(strip=True)\n",
    "    \n",
    "    \n",
    "    # get the pal's list of abilities (skills) - we're only going to find the active ones\n",
    "    # if no active skills, just give 0\n",
    "    abilities = []   \n",
    "    active_skills = pal_soup.find('div', class_='active skills')\n",
    "    if active_skills:\n",
    "        \n",
    "        skill_list = active_skills.find('div', class_='items').find_all('div', class_='item', recursive=False)\n",
    "        \n",
    "        for item in skill_list:\n",
    "            # get the name, level and stats of each ability\n",
    "            temp_ability = {'name': item.find('div', class_='name').get_text(strip=True),\n",
    "                            'level': int(item.find('div', class_='level').get_text(strip=True).split(' ')[-1]),\n",
    "                            'power': int(item.find('div', class_='red').find('div', class_='value').get_text(strip=True)),\n",
    "                            'cooldown': int(\n",
    "                            item.find('div', class_='yellow').find('div', class_='value').get_text(strip=True)),\n",
    "                            'range': item.find('div', class_='grey').find('div', class_='value').get_text(strip=True)\n",
    "                            }\n",
    "            abilities.append(temp_ability)\n",
    "        \n",
    "    \n",
    "    # we can go get avg attack, defense, avg speed, health points, stamina, price, and CP\n",
    "    avg_attack = (float(pal_soup.find('div', class_='name', string='Melee Attack').find_parent('div', class_='item').find('div', class_='value').get_text(strip=True)) + float(pal_soup.find('div', class_='name', string='Shot Attack').find_parent('div', class_='item').find('div', class_='value').get_text(strip=True))) / 2\n",
    "    \n",
    "    defense = int(pal_soup.find('div', class_='name', string='Defense').find_parent('div', class_='item').find('div', class_='value').get_text(strip=True))\n",
    "    \n",
    "    avg_speed = (float(pal_soup.find('div', class_='name', string='Running Speed').find_parent('div', class_='item').find('div', class_='value').get_text(strip=True)) + float(pal_soup.find('div', class_='name', string='Sprinting Speed').find_parent('div', class_='item').find('div', class_='value').get_text(strip=True)) + float(pal_soup.find('div', class_='name', string='Slow Walk Speed').find_parent('div', class_='item').find('div', class_='value').get_text(strip=True))) / 3\n",
    "    \n",
    "    health_points = int(pal_soup.find('div', class_='name', string='HP').find_parent('div', class_='item').find('div', class_='value').get_text(strip=True))\n",
    "    stamina = int(pal_soup.find('div', class_='name', string='Stamina').find_parent('div', class_='item').find('div', class_='value').get_text(strip=True))\n",
    "    price = int(pal_soup.find('div', class_='name', string='Price').find_parent('div', class_='item').find('div', class_='value').get_text(strip=True))\n",
    "    combat_power = avg_attack + defense + health_points\n",
    "    \n",
    "    # now assemble everything into a list\n",
    "    pal_row = [name, rarity, level, element_type, abilities, combat_power, avg_attack,\n",
    "               defense, health_points, avg_speed, stamina, price]\n",
    "    \n",
    "    return pal_row\n",
    "\n",
    "\n",
    "def create_pal_dataframe(pal_names):\n",
    "    \"\"\" creates a dataframe containing specific data for each pal\n",
    "    \n",
    "    Args:\n",
    "        pal_names (str): a list of pal names\n",
    "        \n",
    "    Returns:\n",
    "        pal_df (pandas dataframe): a dataframe containing data of all pals\n",
    "    \"\"\"\n",
    "    \n",
    "    pal_data = []\n",
    "    for pal in pal_names:\n",
    "        # get the data for the pal\n",
    "        temp_data = get_pal_data(pal)\n",
    "        \n",
    "        # add to the overall data\n",
    "        pal_data.append(temp_data)\n",
    "    \n",
    "    # create dataframe\n",
    "    pal_df = pd.DataFrame(pal_data, columns=['Name', 'Rarity', 'Level', 'Element Type',\n",
    "                                             'Abilities', 'CP', 'Avg. Attack',\n",
    "                                             'Defense', 'HP', 'Avg. Speed',\n",
    "                                             'Stamina', 'Price'])\n",
    "    \n",
    "    return pal_df"
   ],
   "metadata": {
    "collapsed": false,
    "ExecuteTime": {
     "end_time": "2024-08-18T15:08:03.322173Z",
     "start_time": "2024-08-18T15:08:03.220625Z"
    }
   }
  },
  {
   "cell_type": "markdown",
   "source": [
    "##### Here is The Code Which We Have Ran to Get Our CSV File"
   ],
   "metadata": {
    "collapsed": false
   }
  },
  {
   "cell_type": "code",
   "execution_count": 24,
   "outputs": [],
   "source": [
    "# code to get data\n",
    "pal_list = get_pal_names('https://palworld.gg/pals')\n",
    "\n",
    "# make dataframe\n",
    "df = create_pal_dataframe(pal_list)\n",
    "\n",
    "# save data as csv file\n",
    "df.to_csv('palworld.csv', index=False)"
   ],
   "metadata": {
    "collapsed": false,
    "ExecuteTime": {
     "end_time": "2024-08-18T15:08:56.113497Z",
     "start_time": "2024-08-18T15:08:03.231912Z"
    }
   }
  },
  {
   "cell_type": "markdown",
   "metadata": {},
   "source": [
    "## Visualizations\n",
    "\n",
    "### Visualization functions overview\n",
    "\n",
    "- `element_type_barp(df, feat)`\n",
    "    - This function generates a bar plot looking at the average of certain features for each element type.\n",
    "- `top_n_scatter_matrix(df, feat, n)`\n",
    "    - This function generates a scatter plot matrix looking at the comparison of certain features and how they impact each other for the top n element types by count.\n",
    "- `box_plot_element_type(df, features)`\n",
    "    - This function generates a box plot looking at the comparison of certain feature distributions for each element type.\n",
    "- `heat_map_corr(df, features)`\n",
    "    - This function generates a heat map looking at the correlation between certain features.\n",
    " \n",
    "### Visualization results"
   ]
  },
  {
   "cell_type": "markdown",
   "metadata": {},
   "source": [
    "#### Visualization 1: Element Type Comparison Bar Plot"
   ]
  },
  {
   "cell_type": "code",
   "execution_count": 25,
   "outputs": [
    {
     "data": {
      "text/plain": "<Figure size 1400x800 with 5 Axes>",
      "image/png": "[encoded data removed]"
     },
     "metadata": {},
     "output_type": "display_data"
    }
   ],
   "source": [
    "def element_type_barp(data_df, feat):\n",
    "    \"\"\" creates a bar plot examining the average of certain features for each element type\n",
    "    \n",
    "    Args:\n",
    "        data_df (pandas dataframe): a pandas dataframe of all the data for each pal\n",
    "        feat (list): a list of Pal features to be compared \n",
    "        \n",
    "    Returns:\n",
    "        null: plotting\n",
    "    \"\"\"\n",
    "    \n",
    "    # split element types into separate rows\n",
    "    df_expanded = data_df.assign(**{'Element Type': data_df['Element Type'].str.split(r'(?=[A-Z])')}).explode('Element Type')\n",
    "\n",
    "    # filter the dataframe by the relevant element types\n",
    "    ele_types = ['Earth', 'Fire', 'Dragon', 'Dark', 'Water', 'Electricity', 'Leaf', 'Normal', 'Ice']\n",
    "    df_filtered = df_expanded[df_expanded['Element Type'].isin(ele_types)]\n",
    "\n",
    "    # group by element type and calculate mean values for the selected columns\n",
    "    avg_features = df_filtered.groupby('Element Type').mean().reset_index()\n",
    "    \n",
    "    # create a color dictionary\n",
    "    color_dict = {'Earth': '#763709', 'Fire': '#F3450E', 'Dragon': '#B807A7',\n",
    "                  'Dark': '#441F44', 'Water': '#1E90FF', 'Electricity': '#FFD700', \n",
    "                  'Leaf': '#228B22', 'Normal': '#A9A9A9', 'Ice': '#94F9F9'}\n",
    "\n",
    "    # create a figure \n",
    "    plt.figure(figsize=(14, 8))\n",
    "\n",
    "    # plotting\n",
    "    for i, feature in enumerate(feat, 1):\n",
    "        plt.subplot(2, 3, i)\n",
    "        sns.barplot(y='Element Type', x=feature, data=avg_features,\n",
    "                    width=.8, palette=color_dict)  \n",
    "        plt.title(f'{feature} by Element Type')\n",
    "        plt.xlabel(feature)\n",
    "        plt.ylabel('Element Type')\n",
    "        plt.tight_layout(pad=2.0)\n",
    "        plt.rcParams['ytick.labelsize'] = 8\n",
    "\n",
    "    plt.savefig('elementbars.png')\n",
    "    plt.show()\n",
    "\n",
    "# our features to compare\n",
    "features = ['Avg. Attack', 'Defense', 'Avg. Speed', 'Stamina', 'Level']\n",
    "\n",
    "# call the function\n",
    "element_type_barp(pals_df, features)"
   ],
   "metadata": {
    "collapsed": false,
    "ExecuteTime": {
     "end_time": "2024-08-18T15:08:57.055509Z",
     "start_time": "2024-08-18T15:08:56.114075Z"
    }
   }
  },
  {
   "cell_type": "markdown",
   "source": [
    "##### Interpretation:\n",
    "We can see that the dragon and dark element types tend to have better values than all other element types, excelling in the average speed, stamina, and level features. The average attack and defense features are a lot more balanced however, with most element types being fairly even. We can conclude however, that there are certainly advantages to dragon and dark element types."
   ],
   "metadata": {
    "collapsed": false
   }
  },
  {
   "cell_type": "markdown",
   "source": [
    "#### Visualization 2: Scatter Plot Matrix of Certain Features"
   ],
   "metadata": {
    "collapsed": false
   }
  },
  {
   "cell_type": "code",
   "execution_count": 26,
   "outputs": [
    {
     "data": {
      "application/vnd.plotly.v1+json": {
       "data": [
        {
         "customdata": [
          [
           "Arsox",
           4
          ],
          [
           "Blazamut",
           9
          ],
          [
           "Blazamut Ryu",
           10
          ],
          [
           "Blazehowl",
           7
          ],
          [
           "Blazehowl Noct",
           8
          ],
          [
           "Bushi",
           7
          ],
          [
           "Bushi Noct",
           7
          ],
          [
           "Chillet Ignis",
           5
          ],
          [
           "Faleris",
           9
          ],
          [
           "Flambelle",
           1
          ],
          [
           "Foxparks",
           1
          ],
          [
           "Gobfin Ignis",
           3
          ],
          [
           "Incineram",
           4
          ],
          [
           "Jormuntide Ignis",
           9
          ],
          [
           "Katress Ignis",
           6
          ],
          [
           "Kelpsea Ignis",
           2
          ],
          [
           "Kitsun",
           6
          ],
          [
           "Leezpunk Ignis",
           3
          ],
          [
           "Pyrin",
           6
          ],
          [
           "Pyrin Noct",
           7
          ],
          [
           "Ragnahawk",
           7
          ],
          [
           "Reptyro",
           6
          ],
          [
           "Rooby",
           2
          ],
          [
           "Sootseer",
           7
          ],
          [
           "Suzaku",
           8
          ],
          [
           "Vanwyrm",
           4
          ],
          [
           "Wixen",
           6
          ],
          [
           "Wixen Noct",
           6
          ]
         ],
         "dimensions": [
          {
           "axis": {
            "matches": true
           },
           "label": "CP",
           "values": [
            277.5,
            357.5,
            370.0,
            290.0,
            292.5,
            272.5,
            275.0,
            262.5,
            312.5,
            225.0,
            207.5,
            255.0,
            305.0,
            370.0,
            287.5,
            225.0,
            292.5,
            215.0,
            292.5,
            292.5,
            317.5,
            332.5,
            235.0,
            307.5,
            327.5,
            287.5,
            250.0,
            255.0
           ]
          },
          {
           "axis": {
            "matches": true
           },
           "label": "HP",
           "values": [
            85,
            100,
            105,
            105,
            105,
            80,
            80,
            90,
            100,
            60,
            65,
            90,
            95,
            130,
            95,
            70,
            100,
            80,
            100,
            100,
            95,
            110,
            75,
            105,
            120,
            90,
            90,
            90
           ]
          },
          {
           "axis": {
            "matches": true
           },
           "label": "Price",
           "values": [
            3520,
            10520,
            10520,
            4040,
            4360,
            4520,
            4520,
            4450,
            6720,
            2500,
            1040,
            1800,
            4780,
            9500,
            4120,
            1240,
            3170,
            1640,
            6720,
            7270,
            6720,
            6940,
            2950,
            4890,
            9840,
            4360,
            3080,
            4080
           ]
          }
         ],
         "hovertemplate": "Element Type=Fire<br>%{xaxis.title.text}=%{x}<br>%{yaxis.title.text}=%{y}<br>Name=%{customdata[0]}<br>Level=%{customdata[1]}<extra></extra>",
         "legendgroup": "Fire",
         "marker": {
          "color": "#636efa",
          "symbol": "circle"
         },
         "name": "Fire",
         "showlegend": true,
         "type": "splom",
         "diagonal": {
          "visible": true
         }
        },
        {
         "customdata": [
          [
           "Astegon",
           9
          ],
          [
           "Bellanoir",
           20
          ],
          [
           "Bellanoir Libero",
           20
          ],
          [
           "Blazehowl Noct",
           8
          ],
          [
           "Bushi Noct",
           7
          ],
          [
           "Cawgnito",
           3
          ],
          [
           "Daedream",
           1
          ],
          [
           "Depresso",
           1
          ],
          [
           "Felbat",
           6
          ],
          [
           "Frostallion Noct",
           20
          ],
          [
           "Helzephyr",
           7
          ],
          [
           "Helzephyr Lux",
           8
          ],
          [
           "Hoocrates",
           1
          ],
          [
           "Incineram",
           4
          ],
          [
           "Incineram Noct",
           5
          ],
          [
           "Katress",
           6
          ],
          [
           "Katress Ignis",
           6
          ],
          [
           "Killamari",
           1
          ],
          [
           "Leezpunk",
           2
          ],
          [
           "Loupmoon",
           3
          ],
          [
           "Lyleen Noct",
           10
          ],
          [
           "Maraith",
           6
          ],
          [
           "Mau",
           1
          ],
          [
           "Menasting",
           9
          ],
          [
           "Necromus",
           20
          ],
          [
           "Nox",
           6
          ],
          [
           "Prixter",
           5
          ],
          [
           "Pyrin Noct",
           7
          ],
          [
           "Selyne",
           9
          ],
          [
           "Shadowbeak",
           10
          ],
          [
           "Shroomer Noct",
           5
          ],
          [
           "Sootseer",
           7
          ],
          [
           "Tombat",
           5
          ],
          [
           "Vanwyrm",
           4
          ],
          [
           "Vanwyrm Cryst",
           5
          ],
          [
           "Wixen Noct",
           6
          ],
          [
           "Xenovader",
           7
          ]
         ],
         "dimensions": [
          {
           "axis": {
            "matches": true
           },
           "label": "CP",
           "values": [
            337.5,
            345.0,
            345.0,
            292.5,
            275.0,
            242.5,
            217.5,
            210.0,
            312.5,
            395.0,
            312.5,
            317.5,
            220.0,
            305.0,
            307.5,
            282.5,
            287.5,
            210.0,
            215.0,
            275.0,
            330.0,
            232.5,
            205.0,
            330.0,
            372.5,
            222.5,
            285.0,
            292.5,
            347.5,
            385.0,
            292.5,
            307.5,
            272.5,
            287.5,
            295.0,
            255.0,
            287.5
           ]
          },
          {
           "axis": {
            "matches": true
           },
           "label": "HP",
           "values": [
            100,
            120,
            120,
            105,
            80,
            75,
            70,
            70,
            100,
            140,
            100,
            105,
            70,
            95,
            95,
            90,
            95,
            60,
            80,
            80,
            110,
            75,
            70,
            100,
            130,
            75,
            90,
            100,
            130,
            120,
            110,
            105,
            95,
            90,
            90,
            90,
            90
           ]
          },
          {
           "axis": {
            "matches": true
           },
           "label": "Price",
           "values": [
            8200,
            10030,
            10030,
            4360,
            4520,
            1840,
            1330,
            1050,
            2100,
            8560,
            7840,
            8840,
            1050,
            4780,
            4870,
            4120,
            4120,
            1200,
            1720,
            2400,
            7610,
            1570,
            1000,
            7050,
            8930,
            1480,
            3939,
            7270,
            9500,
            9060,
            4240,
            4890,
            3810,
            4360,
            4610,
            4080,
            6750
           ]
          }
         ],
         "hovertemplate": "Element Type=Dark<br>%{xaxis.title.text}=%{x}<br>%{yaxis.title.text}=%{y}<br>Name=%{customdata[0]}<br>Level=%{customdata[1]}<extra></extra>",
         "legendgroup": "Dark",
         "marker": {
          "color": "#EF553B",
          "symbol": "circle"
         },
         "name": "Dark",
         "showlegend": true,
         "type": "splom",
         "diagonal": {
          "visible": true
         }
        },
        {
         "customdata": [
          [
           "Beegarde",
           4
          ],
          [
           "Bristla",
           1
          ],
          [
           "Broncherry",
           7
          ],
          [
           "Broncherry Aqua",
           8
          ],
          [
           "Caprity",
           3
          ],
          [
           "Cinnamoth",
           4
          ],
          [
           "Dinossom",
           6
          ],
          [
           "Elizabee",
           8
          ],
          [
           "Flopie",
           1
          ],
          [
           "Gumoss",
           1
          ],
          [
           "Lifmunk",
           1
          ],
          [
           "Lullu",
           4
          ],
          [
           "Lyleen",
           9
          ],
          [
           "Mammorest",
           8
          ],
          [
           "Mossanda",
           6
          ],
          [
           "Petallia",
           8
          ],
          [
           "Quivern Botan",
           8
          ],
          [
           "Robinquill",
           5
          ],
          [
           "Robinquill Terra",
           6
          ],
          [
           "Shroomer",
           4
          ],
          [
           "Shroomer Noct",
           5
          ],
          [
           "Tanzee",
           1
          ],
          [
           "Vaelet",
           8
          ],
          [
           "Verdash",
           8
          ],
          [
           "Warsect",
           8
          ],
          [
           "Wumpo Botan",
           8
          ]
         ],
         "dimensions": [
          {
           "axis": {
            "matches": true
           },
           "label": "CP",
           "values": [
            265.0,
            240.0,
            305.0,
            307.5,
            260.0,
            240.0,
            287.5,
            292.5,
            227.5,
            225.0,
            215.0,
            265.0,
            320.0,
            332.5,
            285.0,
            297.5,
            307.5,
            272.5,
            272.5,
            290.0,
            292.5,
            235.0,
            320.0,
            287.5,
            340.0,
            340.0
           ]
          },
          {
           "axis": {
            "matches": true
           },
           "label": "HP",
           "values": [
            80,
            80,
            120,
            120,
            100,
            70,
            110,
            90,
            75,
            70,
            75,
            90,
            110,
            150,
            100,
            100,
            105,
            90,
            90,
            110,
            110,
            80,
            100,
            90,
            120,
            140
           ]
          },
          {
           "axis": {
            "matches": true
           },
           "label": "Price",
           "values": [
            1880,
            1140,
            2920,
            3110,
            2510,
            5700,
            3240,
            6830,
            1220,
            1310,
            1010,
            3420,
            7160,
            9450,
            6200,
            3590,
            7830,
            2050,
            2150,
            3660,
            4240,
            1280,
            1960,
            2200,
            6830,
            5700
           ]
          }
         ],
         "hovertemplate": "Element Type=Leaf<br>%{xaxis.title.text}=%{x}<br>%{yaxis.title.text}=%{y}<br>Name=%{customdata[0]}<br>Level=%{customdata[1]}<extra></extra>",
         "legendgroup": "Leaf",
         "marker": {
          "color": "#00cc96",
          "symbol": "circle"
         },
         "name": "Leaf",
         "showlegend": true,
         "type": "splom",
         "diagonal": {
          "visible": true
         }
        }
       ],
       "layout": {
        "template": {
         "data": {
          "histogram2dcontour": [
           {
            "type": "histogram2dcontour",
            "colorbar": {
             "outlinewidth": 0,
             "ticks": ""
            },
            "colorscale": [
             [
              0.0,
              "#0d0887"
             ],
             [
              0.1111111111111111,
              "#46039f"
             ],
             [
              0.2222222222222222,
              "#7201a8"
             ],
             [
              0.3333333333333333,
              "#9c179e"
             ],
             [
              0.4444444444444444,
              "#bd3786"
             ],
             [
              0.5555555555555556,
              "#d8576b"
             ],
             [
              0.6666666666666666,
              "#ed7953"
             ],
             [
              0.7777777777777778,
              "#fb9f3a"
             ],
             [
              0.8888888888888888,
              "#fdca26"
             ],
             [
              1.0,
              "#f0f921"
             ]
            ]
           }
          ],
          "choropleth": [
           {
            "type": "choropleth",
            "colorbar": {
             "outlinewidth": 0,
             "ticks": ""
            }
           }
          ],
          "histogram2d": [
           {
            "type": "histogram2d",
            "colorbar": {
             "outlinewidth": 0,
             "ticks": ""
            },
            "colorscale": [
             [
              0.0,
              "#0d0887"
             ],
             [
              0.1111111111111111,
              "#46039f"
             ],
             [
              0.2222222222222222,
              "#7201a8"
             ],
             [
              0.3333333333333333,
              "#9c179e"
             ],
             [
              0.4444444444444444,
              "#bd3786"
             ],
             [
              0.5555555555555556,
              "#d8576b"
             ],
             [
              0.6666666666666666,
              "#ed7953"
             ],
             [
              0.7777777777777778,
              "#fb9f3a"
             ],
             [
              0.8888888888888888,
              "#fdca26"
             ],
             [
              1.0,
              "#f0f921"
             ]
            ]
           }
          ],
          "heatmap": [
           {
            "type": "heatmap",
            "colorbar": {
             "outlinewidth": 0,
             "ticks": ""
            },
            "colorscale": [
             [
              0.0,
              "#0d0887"
             ],
             [
              0.1111111111111111,
              "#46039f"
             ],
             [
              0.2222222222222222,
              "#7201a8"
             ],
             [
              0.3333333333333333,
              "#9c179e"
             ],
             [
              0.4444444444444444,
              "#bd3786"
             ],
             [
              0.5555555555555556,
              "#d8576b"
             ],
             [
              0.6666666666666666,
              "#ed7953"
             ],
             [
              0.7777777777777778,
              "#fb9f3a"
             ],
             [
              0.8888888888888888,
              "#fdca26"
             ],
             [
              1.0,
              "#f0f921"
             ]
            ]
           }
          ],
          "heatmapgl": [
           {
            "type": "heatmapgl",
            "colorbar": {
             "outlinewidth": 0,
             "ticks": ""
            },
            "colorscale": [
             [
              0.0,
              "#0d0887"
             ],
             [
              0.1111111111111111,
              "#46039f"
             ],
             [
              0.2222222222222222,
              "#7201a8"
             ],
             [
              0.3333333333333333,
              "#9c179e"
             ],
             [
              0.4444444444444444,
              "#bd3786"
             ],
             [
              0.5555555555555556,
              "#d8576b"
             ],
             [
              0.6666666666666666,
              "#ed7953"
             ],
             [
              0.7777777777777778,
              "#fb9f3a"
             ],
             [
              0.8888888888888888,
              "#fdca26"
             ],
             [
              1.0,
              "#f0f921"
             ]
            ]
           }
          ],
          "contourcarpet": [
           {
            "type": "contourcarpet",
            "colorbar": {
             "outlinewidth": 0,
             "ticks": ""
            }
           }
          ],
          "contour": [
           {
            "type": "contour",
            "colorbar": {
             "outlinewidth": 0,
             "ticks": ""
            },
            "colorscale": [
             [
              0.0,
              "#0d0887"
             ],
             [
              0.1111111111111111,
              "#46039f"
             ],
             [
              0.2222222222222222,
              "#7201a8"
             ],
             [
              0.3333333333333333,
              "#9c179e"
             ],
             [
              0.4444444444444444,
              "#bd3786"
             ],
             [
              0.5555555555555556,
              "#d8576b"
             ],
             [
              0.6666666666666666,
              "#ed7953"
             ],
             [
              0.7777777777777778,
              "#fb9f3a"
             ],
             [
              0.8888888888888888,
              "#fdca26"
             ],
             [
              1.0,
              "#f0f921"
             ]
            ]
           }
          ],
          "surface": [
           {
            "type": "surface",
            "colorbar": {
             "outlinewidth": 0,
             "ticks": ""
            },
            "colorscale": [
             [
              0.0,
              "#0d0887"
             ],
             [
              0.1111111111111111,
              "#46039f"
             ],
             [
              0.2222222222222222,
              "#7201a8"
             ],
             [
              0.3333333333333333,
              "#9c179e"
             ],
             [
              0.4444444444444444,
              "#bd3786"
             ],
             [
              0.5555555555555556,
              "#d8576b"
             ],
             [
              0.6666666666666666,
              "#ed7953"
             ],
             [
              0.7777777777777778,
              "#fb9f3a"
             ],
             [
              0.8888888888888888,
              "#fdca26"
             ],
             [
              1.0,
              "#f0f921"
             ]
            ]
           }
          ],
          "mesh3d": [
           {
            "type": "mesh3d",
            "colorbar": {
             "outlinewidth": 0,
             "ticks": ""
            }
           }
          ],
          "scatter": [
           {
            "marker": {
             "line": {
              "color": "#283442"
             }
            },
            "type": "scatter"
           }
          ],
          "parcoords": [
           {
            "type": "parcoords",
            "line": {
             "colorbar": {
              "outlinewidth": 0,
              "ticks": ""
             }
            }
           }
          ],
          "scatterpolargl": [
           {
            "type": "scatterpolargl",
            "marker": {
             "colorbar": {
              "outlinewidth": 0,
              "ticks": ""
             }
            }
           }
          ],
          "bar": [
           {
            "error_x": {
             "color": "#f2f5fa"
            },
            "error_y": {
             "color": "#f2f5fa"
            },
            "marker": {
             "line": {
              "color": "rgb(17,17,17)",
              "width": 0.5
             },
             "pattern": {
              "fillmode": "overlay",
              "size": 10,
              "solidity": 0.2
             }
            },
            "type": "bar"
           }
          ],
          "scattergeo": [
           {
            "type": "scattergeo",
            "marker": {
             "colorbar": {
              "outlinewidth": 0,
              "ticks": ""
             }
            }
           }
          ],
          "scatterpolar": [
           {
            "type": "scatterpolar",
            "marker": {
             "colorbar": {
              "outlinewidth": 0,
              "ticks": ""
             }
            }
           }
          ],
          "histogram": [
           {
            "marker": {
             "pattern": {
              "fillmode": "overlay",
              "size": 10,
              "solidity": 0.2
             }
            },
            "type": "histogram"
           }
          ],
          "scattergl": [
           {
            "marker": {
             "line": {
              "color": "#283442"
             }
            },
            "type": "scattergl"
           }
          ],
          "scatter3d": [
           {
            "type": "scatter3d",
            "line": {
             "colorbar": {
              "outlinewidth": 0,
              "ticks": ""
             }
            },
            "marker": {
             "colorbar": {
              "outlinewidth": 0,
              "ticks": ""
             }
            }
           }
          ],
          "scattermapbox": [
           {
            "type": "scattermapbox",
            "marker": {
             "colorbar": {
              "outlinewidth": 0,
              "ticks": ""
             }
            }
           }
          ],
          "scatterternary": [
           {
            "type": "scatterternary",
            "marker": {
             "colorbar": {
              "outlinewidth": 0,
              "ticks": ""
             }
            }
           }
          ],
          "scattercarpet": [
           {
            "type": "scattercarpet",
            "marker": {
             "colorbar": {
              "outlinewidth": 0,
              "ticks": ""
             }
            }
           }
          ],
          "carpet": [
           {
            "aaxis": {
             "endlinecolor": "#A2B1C6",
             "gridcolor": "#506784",
             "linecolor": "#506784",
             "minorgridcolor": "#506784",
             "startlinecolor": "#A2B1C6"
            },
            "baxis": {
             "endlinecolor": "#A2B1C6",
             "gridcolor": "#506784",
             "linecolor": "#506784",
             "minorgridcolor": "#506784",
             "startlinecolor": "#A2B1C6"
            },
            "type": "carpet"
           }
          ],
          "table": [
           {
            "cells": {
             "fill": {
              "color": "#506784"
             },
             "line": {
              "color": "rgb(17,17,17)"
             }
            },
            "header": {
             "fill": {
              "color": "#2a3f5f"
             },
             "line": {
              "color": "rgb(17,17,17)"
             }
            },
            "type": "table"
           }
          ],
          "barpolar": [
           {
            "marker": {
             "line": {
              "color": "rgb(17,17,17)",
              "width": 0.5
             },
             "pattern": {
              "fillmode": "overlay",
              "size": 10,
              "solidity": 0.2
             }
            },
            "type": "barpolar"
           }
          ],
          "pie": [
           {
            "automargin": true,
            "type": "pie"
           }
          ]
         },
         "layout": {
          "autotypenumbers": "strict",
          "colorway": [
           "#636efa",
           "#EF553B",
           "#00cc96",
           "#ab63fa",
           "#FFA15A",
           "#19d3f3",
           "#FF6692",
           "#B6E880",
           "#FF97FF",
           "#FECB52"
          ],
          "font": {
           "color": "#f2f5fa"
          },
          "hovermode": "closest",
          "hoverlabel": {
           "align": "left"
          },
          "paper_bgcolor": "rgb(17,17,17)",
          "plot_bgcolor": "rgb(17,17,17)",
          "polar": {
           "bgcolor": "rgb(17,17,17)",
           "angularaxis": {
            "gridcolor": "#506784",
            "linecolor": "#506784",
            "ticks": ""
           },
           "radialaxis": {
            "gridcolor": "#506784",
            "linecolor": "#506784",
            "ticks": ""
           }
          },
          "ternary": {
           "bgcolor": "rgb(17,17,17)",
           "aaxis": {
            "gridcolor": "#506784",
            "linecolor": "#506784",
            "ticks": ""
           },
           "baxis": {
            "gridcolor": "#506784",
            "linecolor": "#506784",
            "ticks": ""
           },
           "caxis": {
            "gridcolor": "#506784",
            "linecolor": "#506784",
            "ticks": ""
           }
          },
          "coloraxis": {
           "colorbar": {
            "outlinewidth": 0,
            "ticks": ""
           }
          },
          "colorscale": {
           "sequential": [
            [
             0.0,
             "#0d0887"
            ],
            [
             0.1111111111111111,
             "#46039f"
            ],
            [
             0.2222222222222222,
             "#7201a8"
            ],
            [
             0.3333333333333333,
             "#9c179e"
            ],
            [
             0.4444444444444444,
             "#bd3786"
            ],
            [
             0.5555555555555556,
             "#d8576b"
            ],
            [
             0.6666666666666666,
             "#ed7953"
            ],
            [
             0.7777777777777778,
             "#fb9f3a"
            ],
            [
             0.8888888888888888,
             "#fdca26"
            ],
            [
             1.0,
             "#f0f921"
            ]
           ],
           "sequentialminus": [
            [
             0.0,
             "#0d0887"
            ],
            [
             0.1111111111111111,
             "#46039f"
            ],
            [
             0.2222222222222222,
             "#7201a8"
            ],
            [
             0.3333333333333333,
             "#9c179e"
            ],
            [
             0.4444444444444444,
             "#bd3786"
            ],
            [
             0.5555555555555556,
             "#d8576b"
            ],
            [
             0.6666666666666666,
             "#ed7953"
            ],
            [
             0.7777777777777778,
             "#fb9f3a"
            ],
            [
             0.8888888888888888,
             "#fdca26"
            ],
            [
             1.0,
             "#f0f921"
            ]
           ],
           "diverging": [
            [
             0,
             "#8e0152"
            ],
            [
             0.1,
             "#c51b7d"
            ],
            [
             0.2,
             "#de77ae"
            ],
            [
             0.3,
             "#f1b6da"
            ],
            [
             0.4,
             "#fde0ef"
            ],
            [
             0.5,
             "#f7f7f7"
            ],
            [
             0.6,
             "#e6f5d0"
            ],
            [
             0.7,
             "#b8e186"
            ],
            [
             0.8,
             "#7fbc41"
            ],
            [
             0.9,
             "#4d9221"
            ],
            [
             1,
             "#276419"
            ]
           ]
          },
          "xaxis": {
           "gridcolor": "#283442",
           "linecolor": "#506784",
           "ticks": "",
           "title": {
            "standoff": 15
           },
           "zerolinecolor": "#283442",
           "automargin": true,
           "zerolinewidth": 2
          },
          "yaxis": {
           "gridcolor": "#283442",
           "linecolor": "#506784",
           "ticks": "",
           "title": {
            "standoff": 15
           },
           "zerolinecolor": "#283442",
           "automargin": true,
           "zerolinewidth": 2
          },
          "scene": {
           "xaxis": {
            "backgroundcolor": "rgb(17,17,17)",
            "gridcolor": "#506784",
            "linecolor": "#506784",
            "showbackground": true,
            "ticks": "",
            "zerolinecolor": "#C8D4E3",
            "gridwidth": 2
           },
           "yaxis": {
            "backgroundcolor": "rgb(17,17,17)",
            "gridcolor": "#506784",
            "linecolor": "#506784",
            "showbackground": true,
            "ticks": "",
            "zerolinecolor": "#C8D4E3",
            "gridwidth": 2
           },
           "zaxis": {
            "backgroundcolor": "rgb(17,17,17)",
            "gridcolor": "#506784",
            "linecolor": "#506784",
            "showbackground": true,
            "ticks": "",
            "zerolinecolor": "#C8D4E3",
            "gridwidth": 2
           }
          },
          "shapedefaults": {
           "line": {
            "color": "#f2f5fa"
           }
          },
          "annotationdefaults": {
           "arrowcolor": "#f2f5fa",
           "arrowhead": 0,
           "arrowwidth": 1
          },
          "geo": {
           "bgcolor": "rgb(17,17,17)",
           "landcolor": "rgb(17,17,17)",
           "subunitcolor": "#506784",
           "showland": true,
           "showlakes": true,
           "lakecolor": "rgb(17,17,17)"
          },
          "title": {
           "x": 0.05
          },
          "updatemenudefaults": {
           "bgcolor": "#506784",
           "borderwidth": 0
          },
          "sliderdefaults": {
           "bgcolor": "#C8D4E3",
           "borderwidth": 1,
           "bordercolor": "rgb(17,17,17)",
           "tickwidth": 0
          },
          "mapbox": {
           "style": "dark"
          }
         }
        },
        "legend": {
         "title": {
          "text": "Element Type"
         },
         "tracegroupgap": 0
        },
        "title": {
         "text": "Scatterplot Matrix of Pal Features for the 3 Most Frequent Element Types"
        },
        "dragmode": "select"
       },
       "config": {
        "plotlyServerURL": "https://plot.ly"
       }
      },
      "text/html": "<div>                            <div id=\"1e2499f2-6529-43ac-ba38-ce377cb4eee2\" class=\"plotly-graph-div\" style=\"height:525px; width:100%;\"></div>            <script type=\"text/javascript\">                require([\"plotly\"], function(Plotly) {                    window.PLOTLYENV=window.PLOTLYENV || {};                                    if (document.getElementById(\"1e2499f2-6529-43ac-ba38-ce377cb4eee2\")) {                    Plotly.newPlot(                        \"1e2499f2-6529-43ac-ba38-ce377cb4eee2\",                        [{\"customdata\":[[\"Arsox\",4],[\"Blazamut\",9],[\"Blazamut Ryu\",10],[\"Blazehowl\",7],[\"Blazehowl Noct\",8],[\"Bushi\",7],[\"Bushi Noct\",7],[\"Chillet Ignis\",5],[\"Faleris\",9],[\"Flambelle\",1],[\"Foxparks\",1],[\"Gobfin Ignis\",3],[\"Incineram\",4],[\"Jormuntide Ignis\",9],[\"Katress Ignis\",6],[\"Kelpsea Ignis\",2],[\"Kitsun\",6],[\"Leezpunk Ignis\",3],[\"Pyrin\",6],[\"Pyrin Noct\",7],[\"Ragnahawk\",7],[\"Reptyro\",6],[\"Rooby\",2],[\"Sootseer\",7],[\"Suzaku\",8],[\"Vanwyrm\",4],[\"Wixen\",6],[\"Wixen Noct\",6]],\"dimensions\":[{\"axis\":{\"matches\":true},\"label\":\"CP\",\"values\":[277.5,357.5,370.0,290.0,292.5,272.5,275.0,262.5,312.5,225.0,207.5,255.0,305.0,370.0,287.5,225.0,292.5,215.0,292.5,292.5,317.5,332.5,235.0,307.5,327.5,287.5,250.0,255.0]},{\"axis\":{\"matches\":true},\"label\":\"HP\",\"values\":[85,100,105,105,105,80,80,90,100,60,65,90,95,130,95,70,100,80,100,100,95,110,75,105,120,90,90,90]},{\"axis\":{\"matches\":true},\"label\":\"Price\",\"values\":[3520,10520,10520,4040,4360,4520,4520,4450,6720,2500,1040,1800,4780,9500,4120,1240,3170,1640,6720,7270,6720,6940,2950,4890,9840,4360,3080,4080]}],\"hovertemplate\":\"Element Type=Fire<br>%{xaxis.title.text}=%{x}<br>%{yaxis.title.text}=%{y}<br>Name=%{customdata[0]}<br>Level=%{customdata[1]}<extra></extra>\",\"legendgroup\":\"Fire\",\"marker\":{\"color\":\"#636efa\",\"symbol\":\"circle\"},\"name\":\"Fire\",\"showlegend\":true,\"type\":\"splom\",\"diagonal\":{\"visible\":true}},{\"customdata\":[[\"Astegon\",9],[\"Bellanoir\",20],[\"Bellanoir Libero\",20],[\"Blazehowl Noct\",8],[\"Bushi Noct\",7],[\"Cawgnito\",3],[\"Daedream\",1],[\"Depresso\",1],[\"Felbat\",6],[\"Frostallion Noct\",20],[\"Helzephyr\",7],[\"Helzephyr Lux\",8],[\"Hoocrates\",1],[\"Incineram\",4],[\"Incineram Noct\",5],[\"Katress\",6],[\"Katress Ignis\",6],[\"Killamari\",1],[\"Leezpunk\",2],[\"Loupmoon\",3],[\"Lyleen Noct\",10],[\"Maraith\",6],[\"Mau\",1],[\"Menasting\",9],[\"Necromus\",20],[\"Nox\",6],[\"Prixter\",5],[\"Pyrin Noct\",7],[\"Selyne\",9],[\"Shadowbeak\",10],[\"Shroomer Noct\",5],[\"Sootseer\",7],[\"Tombat\",5],[\"Vanwyrm\",4],[\"Vanwyrm Cryst\",5],[\"Wixen Noct\",6],[\"Xenovader\",7]],\"dimensions\":[{\"axis\":{\"matches\":true},\"label\":\"CP\",\"values\":[337.5,345.0,345.0,292.5,275.0,242.5,217.5,210.0,312.5,395.0,312.5,317.5,220.0,305.0,307.5,282.5,287.5,210.0,215.0,275.0,330.0,232.5,205.0,330.0,372.5,222.5,285.0,292.5,347.5,385.0,292.5,307.5,272.5,287.5,295.0,255.0,287.5]},{\"axis\":{\"matches\":true},\"label\":\"HP\",\"values\":[100,120,120,105,80,75,70,70,100,140,100,105,70,95,95,90,95,60,80,80,110,75,70,100,130,75,90,100,130,120,110,105,95,90,90,90,90]},{\"axis\":{\"matches\":true},\"label\":\"Price\",\"values\":[8200,10030,10030,4360,4520,1840,1330,1050,2100,8560,7840,8840,1050,4780,4870,4120,4120,1200,1720,2400,7610,1570,1000,7050,8930,1480,3939,7270,9500,9060,4240,4890,3810,4360,4610,4080,6750]}],\"hovertemplate\":\"Element Type=Dark<br>%{xaxis.title.text}=%{x}<br>%{yaxis.title.text}=%{y}<br>Name=%{customdata[0]}<br>Level=%{customdata[1]}<extra></extra>\",\"legendgroup\":\"Dark\",\"marker\":{\"color\":\"#EF553B\",\"symbol\":\"circle\"},\"name\":\"Dark\",\"showlegend\":true,\"type\":\"splom\",\"diagonal\":{\"visible\":true}},{\"customdata\":[[\"Beegarde\",4],[\"Bristla\",1],[\"Broncherry\",7],[\"Broncherry Aqua\",8],[\"Caprity\",3],[\"Cinnamoth\",4],[\"Dinossom\",6],[\"Elizabee\",8],[\"Flopie\",1],[\"Gumoss\",1],[\"Lifmunk\",1],[\"Lullu\",4],[\"Lyleen\",9],[\"Mammorest\",8],[\"Mossanda\",6],[\"Petallia\",8],[\"Quivern Botan\",8],[\"Robinquill\",5],[\"Robinquill Terra\",6],[\"Shroomer\",4],[\"Shroomer Noct\",5],[\"Tanzee\",1],[\"Vaelet\",8],[\"Verdash\",8],[\"Warsect\",8],[\"Wumpo Botan\",8]],\"dimensions\":[{\"axis\":{\"matches\":true},\"label\":\"CP\",\"values\":[265.0,240.0,305.0,307.5,260.0,240.0,287.5,292.5,227.5,225.0,215.0,265.0,320.0,332.5,285.0,297.5,307.5,272.5,272.5,290.0,292.5,235.0,320.0,287.5,340.0,340.0]},{\"axis\":{\"matches\":true},\"label\":\"HP\",\"values\":[80,80,120,120,100,70,110,90,75,70,75,90,110,150,100,100,105,90,90,110,110,80,100,90,120,140]},{\"axis\":{\"matches\":true},\"label\":\"Price\",\"values\":[1880,1140,2920,3110,2510,5700,3240,6830,1220,1310,1010,3420,7160,9450,6200,3590,7830,2050,2150,3660,4240,1280,1960,2200,6830,5700]}],\"hovertemplate\":\"Element Type=Leaf<br>%{xaxis.title.text}=%{x}<br>%{yaxis.title.text}=%{y}<br>Name=%{customdata[0]}<br>Level=%{customdata[1]}<extra></extra>\",\"legendgroup\":\"Leaf\",\"marker\":{\"color\":\"#00cc96\",\"symbol\":\"circle\"},\"name\":\"Leaf\",\"showlegend\":true,\"type\":\"splom\",\"diagonal\":{\"visible\":true}}],                        {\"template\":{\"data\":{\"histogram2dcontour\":[{\"type\":\"histogram2dcontour\",\"colorbar\":{\"outlinewidth\":0,\"ticks\":\"\"},\"colorscale\":[[0.0,\"#0d0887\"],[0.1111111111111111,\"#46039f\"],[0.2222222222222222,\"#7201a8\"],[0.3333333333333333,\"#9c179e\"],[0.4444444444444444,\"#bd3786\"],[0.5555555555555556,\"#d8576b\"],[0.6666666666666666,\"#ed7953\"],[0.7777777777777778,\"#fb9f3a\"],[0.8888888888888888,\"#fdca26\"],[1.0,\"#f0f921\"]]}],\"choropleth\":[{\"type\":\"choropleth\",\"colorbar\":{\"outlinewidth\":0,\"ticks\":\"\"}}],\"histogram2d\":[{\"type\":\"histogram2d\",\"colorbar\":{\"outlinewidth\":0,\"ticks\":\"\"},\"colorscale\":[[0.0,\"#0d0887\"],[0.1111111111111111,\"#46039f\"],[0.2222222222222222,\"#7201a8\"],[0.3333333333333333,\"#9c179e\"],[0.4444444444444444,\"#bd3786\"],[0.5555555555555556,\"#d8576b\"],[0.6666666666666666,\"#ed7953\"],[0.7777777777777778,\"#fb9f3a\"],[0.8888888888888888,\"#fdca26\"],[1.0,\"#f0f921\"]]}],\"heatmap\":[{\"type\":\"heatmap\",\"colorbar\":{\"outlinewidth\":0,\"ticks\":\"\"},\"colorscale\":[[0.0,\"#0d0887\"],[0.1111111111111111,\"#46039f\"],[0.2222222222222222,\"#7201a8\"],[0.3333333333333333,\"#9c179e\"],[0.4444444444444444,\"#bd3786\"],[0.5555555555555556,\"#d8576b\"],[0.6666666666666666,\"#ed7953\"],[0.7777777777777778,\"#fb9f3a\"],[0.8888888888888888,\"#fdca26\"],[1.0,\"#f0f921\"]]}],\"heatmapgl\":[{\"type\":\"heatmapgl\",\"colorbar\":{\"outlinewidth\":0,\"ticks\":\"\"},\"colorscale\":[[0.0,\"#0d0887\"],[0.1111111111111111,\"#46039f\"],[0.2222222222222222,\"#7201a8\"],[0.3333333333333333,\"#9c179e\"],[0.4444444444444444,\"#bd3786\"],[0.5555555555555556,\"#d8576b\"],[0.6666666666666666,\"#ed7953\"],[0.7777777777777778,\"#fb9f3a\"],[0.8888888888888888,\"#fdca26\"],[1.0,\"#f0f921\"]]}],\"contourcarpet\":[{\"type\":\"contourcarpet\",\"colorbar\":{\"outlinewidth\":0,\"ticks\":\"\"}}],\"contour\":[{\"type\":\"contour\",\"colorbar\":{\"outlinewidth\":0,\"ticks\":\"\"},\"colorscale\":[[0.0,\"#0d0887\"],[0.1111111111111111,\"#46039f\"],[0.2222222222222222,\"#7201a8\"],[0.3333333333333333,\"#9c179e\"],[0.4444444444444444,\"#bd3786\"],[0.5555555555555556,\"#d8576b\"],[0.6666666666666666,\"#ed7953\"],[0.7777777777777778,\"#fb9f3a\"],[0.8888888888888888,\"#fdca26\"],[1.0,\"#f0f921\"]]}],\"surface\":[{\"type\":\"surface\",\"colorbar\":{\"outlinewidth\":0,\"ticks\":\"\"},\"colorscale\":[[0.0,\"#0d0887\"],[0.1111111111111111,\"#46039f\"],[0.2222222222222222,\"#7201a8\"],[0.3333333333333333,\"#9c179e\"],[0.4444444444444444,\"#bd3786\"],[0.5555555555555556,\"#d8576b\"],[0.6666666666666666,\"#ed7953\"],[0.7777777777777778,\"#fb9f3a\"],[0.8888888888888888,\"#fdca26\"],[1.0,\"#f0f921\"]]}],\"mesh3d\":[{\"type\":\"mesh3d\",\"colorbar\":{\"outlinewidth\":0,\"ticks\":\"\"}}],\"scatter\":[{\"marker\":{\"line\":{\"color\":\"#283442\"}},\"type\":\"scatter\"}],\"parcoords\":[{\"type\":\"parcoords\",\"line\":{\"colorbar\":{\"outlinewidth\":0,\"ticks\":\"\"}}}],\"scatterpolargl\":[{\"type\":\"scatterpolargl\",\"marker\":{\"colorbar\":{\"outlinewidth\":0,\"ticks\":\"\"}}}],\"bar\":[{\"error_x\":{\"color\":\"#f2f5fa\"},\"error_y\":{\"color\":\"#f2f5fa\"},\"marker\":{\"line\":{\"color\":\"rgb(17,17,17)\",\"width\":0.5},\"pattern\":{\"fillmode\":\"overlay\",\"size\":10,\"solidity\":0.2}},\"type\":\"bar\"}],\"scattergeo\":[{\"type\":\"scattergeo\",\"marker\":{\"colorbar\":{\"outlinewidth\":0,\"ticks\":\"\"}}}],\"scatterpolar\":[{\"type\":\"scatterpolar\",\"marker\":{\"colorbar\":{\"outlinewidth\":0,\"ticks\":\"\"}}}],\"histogram\":[{\"marker\":{\"pattern\":{\"fillmode\":\"overlay\",\"size\":10,\"solidity\":0.2}},\"type\":\"histogram\"}],\"scattergl\":[{\"marker\":{\"line\":{\"color\":\"#283442\"}},\"type\":\"scattergl\"}],\"scatter3d\":[{\"type\":\"scatter3d\",\"line\":{\"colorbar\":{\"outlinewidth\":0,\"ticks\":\"\"}},\"marker\":{\"colorbar\":{\"outlinewidth\":0,\"ticks\":\"\"}}}],\"scattermapbox\":[{\"type\":\"scattermapbox\",\"marker\":{\"colorbar\":{\"outlinewidth\":0,\"ticks\":\"\"}}}],\"scatterternary\":[{\"type\":\"scatterternary\",\"marker\":{\"colorbar\":{\"outlinewidth\":0,\"ticks\":\"\"}}}],\"scattercarpet\":[{\"type\":\"scattercarpet\",\"marker\":{\"colorbar\":{\"outlinewidth\":0,\"ticks\":\"\"}}}],\"carpet\":[{\"aaxis\":{\"endlinecolor\":\"#A2B1C6\",\"gridcolor\":\"#506784\",\"linecolor\":\"#506784\",\"minorgridcolor\":\"#506784\",\"startlinecolor\":\"#A2B1C6\"},\"baxis\":{\"endlinecolor\":\"#A2B1C6\",\"gridcolor\":\"#506784\",\"linecolor\":\"#506784\",\"minorgridcolor\":\"#506784\",\"startlinecolor\":\"#A2B1C6\"},\"type\":\"carpet\"}],\"table\":[{\"cells\":{\"fill\":{\"color\":\"#506784\"},\"line\":{\"color\":\"rgb(17,17,17)\"}},\"header\":{\"fill\":{\"color\":\"#2a3f5f\"},\"line\":{\"color\":\"rgb(17,17,17)\"}},\"type\":\"table\"}],\"barpolar\":[{\"marker\":{\"line\":{\"color\":\"rgb(17,17,17)\",\"width\":0.5},\"pattern\":{\"fillmode\":\"overlay\",\"size\":10,\"solidity\":0.2}},\"type\":\"barpolar\"}],\"pie\":[{\"automargin\":true,\"type\":\"pie\"}]},\"layout\":{\"autotypenumbers\":\"strict\",\"colorway\":[\"#636efa\",\"#EF553B\",\"#00cc96\",\"#ab63fa\",\"#FFA15A\",\"#19d3f3\",\"#FF6692\",\"#B6E880\",\"#FF97FF\",\"#FECB52\"],\"font\":{\"color\":\"#f2f5fa\"},\"hovermode\":\"closest\",\"hoverlabel\":{\"align\":\"left\"},\"paper_bgcolor\":\"rgb(17,17,17)\",\"plot_bgcolor\":\"rgb(17,17,17)\",\"polar\":{\"bgcolor\":\"rgb(17,17,17)\",\"angularaxis\":{\"gridcolor\":\"#506784\",\"linecolor\":\"#506784\",\"ticks\":\"\"},\"radialaxis\":{\"gridcolor\":\"#506784\",\"linecolor\":\"#506784\",\"ticks\":\"\"}},\"ternary\":{\"bgcolor\":\"rgb(17,17,17)\",\"aaxis\":{\"gridcolor\":\"#506784\",\"linecolor\":\"#506784\",\"ticks\":\"\"},\"baxis\":{\"gridcolor\":\"#506784\",\"linecolor\":\"#506784\",\"ticks\":\"\"},\"caxis\":{\"gridcolor\":\"#506784\",\"linecolor\":\"#506784\",\"ticks\":\"\"}},\"coloraxis\":{\"colorbar\":{\"outlinewidth\":0,\"ticks\":\"\"}},\"colorscale\":{\"sequential\":[[0.0,\"#0d0887\"],[0.1111111111111111,\"#46039f\"],[0.2222222222222222,\"#7201a8\"],[0.3333333333333333,\"#9c179e\"],[0.4444444444444444,\"#bd3786\"],[0.5555555555555556,\"#d8576b\"],[0.6666666666666666,\"#ed7953\"],[0.7777777777777778,\"#fb9f3a\"],[0.8888888888888888,\"#fdca26\"],[1.0,\"#f0f921\"]],\"sequentialminus\":[[0.0,\"#0d0887\"],[0.1111111111111111,\"#46039f\"],[0.2222222222222222,\"#7201a8\"],[0.3333333333333333,\"#9c179e\"],[0.4444444444444444,\"#bd3786\"],[0.5555555555555556,\"#d8576b\"],[0.6666666666666666,\"#ed7953\"],[0.7777777777777778,\"#fb9f3a\"],[0.8888888888888888,\"#fdca26\"],[1.0,\"#f0f921\"]],\"diverging\":[[0,\"#8e0152\"],[0.1,\"#c51b7d\"],[0.2,\"#de77ae\"],[0.3,\"#f1b6da\"],[0.4,\"#fde0ef\"],[0.5,\"#f7f7f7\"],[0.6,\"#e6f5d0\"],[0.7,\"#b8e186\"],[0.8,\"#7fbc41\"],[0.9,\"#4d9221\"],[1,\"#276419\"]]},\"xaxis\":{\"gridcolor\":\"#283442\",\"linecolor\":\"#506784\",\"ticks\":\"\",\"title\":{\"standoff\":15},\"zerolinecolor\":\"#283442\",\"automargin\":true,\"zerolinewidth\":2},\"yaxis\":{\"gridcolor\":\"#283442\",\"linecolor\":\"#506784\",\"ticks\":\"\",\"title\":{\"standoff\":15},\"zerolinecolor\":\"#283442\",\"automargin\":true,\"zerolinewidth\":2},\"scene\":{\"xaxis\":{\"backgroundcolor\":\"rgb(17,17,17)\",\"gridcolor\":\"#506784\",\"linecolor\":\"#506784\",\"showbackground\":true,\"ticks\":\"\",\"zerolinecolor\":\"#C8D4E3\",\"gridwidth\":2},\"yaxis\":{\"backgroundcolor\":\"rgb(17,17,17)\",\"gridcolor\":\"#506784\",\"linecolor\":\"#506784\",\"showbackground\":true,\"ticks\":\"\",\"zerolinecolor\":\"#C8D4E3\",\"gridwidth\":2},\"zaxis\":{\"backgroundcolor\":\"rgb(17,17,17)\",\"gridcolor\":\"#506784\",\"linecolor\":\"#506784\",\"showbackground\":true,\"ticks\":\"\",\"zerolinecolor\":\"#C8D4E3\",\"gridwidth\":2}},\"shapedefaults\":{\"line\":{\"color\":\"#f2f5fa\"}},\"annotationdefaults\":{\"arrowcolor\":\"#f2f5fa\",\"arrowhead\":0,\"arrowwidth\":1},\"geo\":{\"bgcolor\":\"rgb(17,17,17)\",\"landcolor\":\"rgb(17,17,17)\",\"subunitcolor\":\"#506784\",\"showland\":true,\"showlakes\":true,\"lakecolor\":\"rgb(17,17,17)\"},\"title\":{\"x\":0.05},\"updatemenudefaults\":{\"bgcolor\":\"#506784\",\"borderwidth\":0},\"sliderdefaults\":{\"bgcolor\":\"#C8D4E3\",\"borderwidth\":1,\"bordercolor\":\"rgb(17,17,17)\",\"tickwidth\":0},\"mapbox\":{\"style\":\"dark\"}}},\"legend\":{\"title\":{\"text\":\"Element Type\"},\"tracegroupgap\":0},\"title\":{\"text\":\"Scatterplot Matrix of Pal Features for the 3 Most Frequent Element Types\"},\"dragmode\":\"select\"},                        {\"responsive\": true}                    ).then(function(){\n                            \nvar gd = document.getElementById('1e2499f2-6529-43ac-ba38-ce377cb4eee2');\nvar x = new MutationObserver(function (mutations, observer) {{\n        var display = window.getComputedStyle(gd).display;\n        if (!display || display === 'none') {{\n            console.log([gd, 'removed!']);\n            Plotly.purge(gd);\n            observer.disconnect();\n        }}\n}});\n\n// Listen for the removal of the full notebook cells\nvar notebookContainer = gd.closest('#notebook-container');\nif (notebookContainer) {{\n    x.observe(notebookContainer, {childList: true});\n}}\n\n// Listen for the clearing of the current output cell\nvar outputEl = gd.closest('.output');\nif (outputEl) {{\n    x.observe(outputEl, {childList: true});\n}}\n\n                        })                };                });            </script>        </div>"
     },
     "metadata": {},
     "output_type": "display_data"
    }
   ],
   "source": [
    "def top_n_scatter_matrix(data_df, feat, n):\n",
    "    \"\"\" creates a scatter plot matrix examining the comparison and impact of certain features on each other for the top n element types by count\n",
    "    \n",
    "    Args:\n",
    "        data_df (pandas dataframe): a pandas dataframe of all the data for each pal\n",
    "        feat (list): a list of Pal features to be compared \n",
    "        n (int): top n number of element types (1-8)\n",
    "        \n",
    "    Returns:\n",
    "        null: plotting\n",
    "    \"\"\"\n",
    "    \n",
    "    # split element types into separate rows\n",
    "    df_expanded = data_df.assign(**{'Element Type': data_df['Element Type'].str.split(r'(?=[A-Z])')}).explode('Element Type')\n",
    "\n",
    "    # replace values in dataframe by the relevant element types\n",
    "    ele_types = ['Earth', 'Fire', 'Dragon', 'Dark', 'Water', 'Electricity', 'Leaf', 'Normal', 'Ice']\n",
    "    df_filtered = df_expanded[df_expanded['Element Type'].isin(ele_types)]\n",
    "    \n",
    "    # get the top n most frequent element types\n",
    "    top_n_df = df_filtered[df_filtered['Element Type'].isin(dict(df_filtered['Element Type'].value_counts()[:n]).keys())]\n",
    "    \n",
    "    # scatterplot matrix with plotly\n",
    "    fig = px.scatter_matrix(top_n_df,\n",
    "    dimensions=feat, hover_data={'Name': True, 'Level': True},\n",
    "    labels={'CP': 'CP', 'HP': 'HP', 'Price': 'Price'}, title=f'Scatterplot Matrix of Pal Features for the {n} Most Frequent Element Types', color='Element Type')\n",
    "\n",
    "    # update marker settings\n",
    "    fig.update_traces(diagonal_visible=True)\n",
    "\n",
    "    # show plot\n",
    "    fig.write_image(\"scatter_matrix.png\")\n",
    "    fig.show()\n",
    "\n",
    "# our features to compare\n",
    "features = ['CP', 'HP', 'Price']\n",
    "\n",
    "# call the function\n",
    "top_n_scatter_matrix(pals_df, features, 3)"
   ],
   "metadata": {
    "collapsed": false,
    "ExecuteTime": {
     "end_time": "2024-08-18T15:08:57.689163Z",
     "start_time": "2024-08-18T15:08:57.058246Z"
    }
   }
  },
  {
   "cell_type": "markdown",
   "source": [
    "##### Interpretation:\n",
    "Out of the six pairs, we can see that CP (x) and HP (y) are likely the most correlated values. Price (x) and CP (y) are another pair with a high correlation value. We can interpret that any pair of CP with HP or price will carry a high correlation value, while price and HP seem to be the pair with the lowest correlation."
   ],
   "metadata": {
    "collapsed": false
   }
  },
  {
   "cell_type": "markdown",
   "source": [
    "#### Visualization 3: Box Plots of Certain Features by Element Type"
   ],
   "metadata": {
    "collapsed": false
   }
  },
  {
   "cell_type": "code",
   "execution_count": 27,
   "outputs": [
    {
     "data": {
      "text/plain": "<Figure size 1000x600 with 1 Axes>",
      "image/png": "[encoded data removed]"
     },
     "metadata": {},
     "output_type": "display_data"
    },
    {
     "data": {
      "text/plain": "<Figure size 1000x600 with 1 Axes>",
      "image/png": "[encoded data removed]"
     },
     "metadata": {},
     "output_type": "display_data"
    },
    {
     "data": {
      "text/plain": "<Figure size 1000x600 with 1 Axes>",
      "image/png": "[encoded data removed]"
     },
     "metadata": {},
     "output_type": "display_data"
    },
    {
     "data": {
      "text/plain": "<Figure size 1000x600 with 1 Axes>",
      "image/png": "[encoded data removed]"
     },
     "metadata": {},
     "output_type": "display_data"
    },
    {
     "data": {
      "text/plain": "<Figure size 1000x600 with 1 Axes>",
      "image/png": "[encoded data removed]"
     },
     "metadata": {},
     "output_type": "display_data"
    },
    {
     "data": {
      "text/plain": "<Figure size 1000x600 with 1 Axes>",
      "image/png": "[encoded data removed]"
     },
     "metadata": {},
     "output_type": "display_data"
    }
   ],
   "source": [
    "# re-filtering the dataframe\n",
    "df_org = pals_df.assign(**{'Element Type': pals_df['Element Type'].str.split(r'(?=[A-Z])')}).explode('Element Type')\n",
    "elTypes = ['Earth', 'Fire', 'Dragon', 'Dark', 'Water', 'Electricity', 'Leaf', 'Normal', 'Ice']\n",
    "df_filtered = df_org[df_org['Element Type'].isin(elTypes)]\n",
    "\n",
    "\n",
    "def box_plot_element_type(data_df, feats):\n",
    "    \"\"\"\n",
    "    Generates box plots of the specified features, grouped by element type.\n",
    "    \n",
    "    Args:\n",
    "        data_df (pandas dataframe): a pandas dataframe of all the data for each pal\n",
    "        feats (list): a list of Pal features to be compared \n",
    "        \n",
    "    Returns:\n",
    "        null: plotting\n",
    "    \"\"\"\n",
    "    #Visual dictionary\n",
    "    palet = {\n",
    "    'Earth': '#8c564b',        \n",
    "    'Fire': '#ff7f0e',         \n",
    "    'Dragon': '#7332a8',       \n",
    "    'Dark': '#302f30',         \n",
    "    'Water': '#1f77b4',        \n",
    "    'Electricity': '#f7ea2f',  \n",
    "    'Leaf': '#2ca02c',         \n",
    "    'Normal': '#7f7f7f',       \n",
    "    'Ice': '#17becf'            \n",
    "    }\n",
    "    #box plot for each feature\n",
    "    for feat in feats:\n",
    "        plt.figure(figsize=(10, 6))\n",
    "        sns.boxplot(x=feat, y='Element Type', data=data_df, palette = palet, showfliers=False)\n",
    "        plt.xticks(fontsize=15)\n",
    "        plt.yticks(fontsize=15)\n",
    "        plt.title(f'Box Plot of {feat} by Element Type')\n",
    "        plt.ylabel('Element Type', fontsize=20)\n",
    "        plt.xlabel(feat, fontsize=25)\n",
    "        #plt.savefig(f'box{feat}_final.png')\n",
    "        plt.show()\n",
    "     \n",
    "\n",
    "# our features to compare\n",
    "features = ['Avg. Attack', 'Defense','Avg. Speed', 'Stamina', 'Level', 'CP']\n",
    "# call function\n",
    "box_plot_element_type(df_filtered, features)"
   ],
   "metadata": {
    "collapsed": false,
    "ExecuteTime": {
     "end_time": "2024-08-18T15:08:58.429398Z",
     "start_time": "2024-08-18T15:08:57.687981Z"
    }
   }
  },
  {
   "cell_type": "markdown",
   "source": [
    "##### Interpretation:\n",
    "\n",
    "Looking at these values, we can see that the Dragon and Dark element types typically have the highest medians and maximums. This would suggest that those element types are superior as they typically have higher values of each feature. Certain dragon and dark element varients maintain high median and max box values, but also a short box length, showing that there is not much variation, meaning these element variants are consistently having higher values than other element types. For example, Dragon's box in the defense graph does not have the highest median or max. Still, its box is significantly smaller than all the others, meaning it is more consistent in that range. In contrast, the other elements have a minimum much lower than the Dragon element types. "
   ],
   "metadata": {
    "collapsed": false
   }
  },
  {
   "cell_type": "markdown",
   "source": [
    "#### Visualization 4: Heat Map of Certain Features"
   ],
   "metadata": {
    "collapsed": false
   }
  },
  {
   "cell_type": "code",
   "execution_count": 28,
   "outputs": [
    {
     "data": {
      "text/plain": "<Figure size 1000x800 with 2 Axes>",
      "image/png": "[encoded data removed]"
     },
     "metadata": {},
     "output_type": "display_data"
    }
   ],
   "source": [
    "def heat_map_corr(data_df, feats):\n",
    "    \"\"\"\n",
    "    Generates a heat map of the specified features.\n",
    "    \n",
    "    Args:\n",
    "        data_df (pandas dataframe): a pandas dataframe of all the data for each pal\n",
    "        feats (list): a list of Pal features to be compared to one another \n",
    "        \n",
    "    Returns:\n",
    "        null: plotting\n",
    "    \"\"\"\n",
    "\n",
    "    # Calculate the correlation matrix\n",
    "    corr_matrix = data_df[feats].corr()\n",
    "\n",
    "    # Plot the heatmap\n",
    "    plt.figure(figsize=(10, 8))\n",
    "    sns.heatmap(corr_matrix, annot=True, cmap='coolwarm', vmin=-1, vmax=1)\n",
    "    plt.title('Correlation Heatmap of Features Impacting Combat Power')\n",
    "    #plt.savefig('heatm_final.png')\n",
    "    plt.show()\n",
    "    \n",
    "\n",
    "# our features to compare\n",
    "features = ['Avg. Attack', 'Defense','Avg. Speed', 'Stamina', 'Level', 'CP', 'HP', 'Price']\n",
    "# call function\n",
    "heat_map_corr(pals_df, features)"
   ],
   "metadata": {
    "collapsed": false,
    "ExecuteTime": {
     "end_time": "2024-08-18T15:08:58.612250Z",
     "start_time": "2024-08-18T15:08:58.436674Z"
    }
   }
  },
  {
   "cell_type": "markdown",
   "source": [
    "##### Interpretation:\n",
    "We can see some of these values are very correlated with each other. \n",
    "Combat power looks to be most correlated with HP, Defense, Price, and Level. \n",
    "Stamina and Avg. Speed have the weakest correlation to all other features.\n",
    "From this, speed and stamina seem to dictate combat power the least out of other variables tested against it, and HP and Defense dictate the most."
   ],
   "metadata": {
    "collapsed": false
   }
  },
  {
   "cell_type": "markdown",
   "metadata": {},
   "source": [
    "## Models\n",
    "\n",
    "### Modeling functions overview\n",
    "List all the functions you have written for modeling. For each one, write one sentence to describe it. \n",
    "- `random_forest_regressor(data_df)`\n",
    "    - fit a random forest regressor to predict the combat power of each pal. Evaluate with R^2 and mean squared error.\n",
    "    - `plot_feature_importance(model, feat_names)`\n",
    "        - plots the feature importance of the random forest regressor.\n",
    "- `pca_elt_dist(df)`\n",
    "    - fit a PCA to visualize and better understand the variance of each feature\n",
    "    - `loading_plot(dfx)`\n",
    "       - Create a loading plot to analyze features and PC relationships\n",
    "    - `cumsumplot(dfx)`\n",
    "       - Create a bar plot to analyze cumulative explained variance"
   ]
  },
  {
   "cell_type": "markdown",
   "metadata": {},
   "source": [
    "#### Model 1: Random Forest Regressor to Predict Combat Power"
   ]
  },
  {
   "cell_type": "markdown",
   "source": [
    "We have chosen to use a random forest regressor because we believe many features play a role in predicting the combat power; the random forest models are also great for accuracy and negligible overfitting. We are using dummy variables for the rarity and element type values. I am also going to normalize the combat power before predicting."
   ],
   "metadata": {
    "collapsed": false
   }
  },
  {
   "cell_type": "code",
   "execution_count": 29,
   "outputs": [
    {
     "data": {
      "text/plain": "<Figure size 1200x800 with 1 Axes>",
      "image/png": "[encoded data removed]"
     },
     "metadata": {},
     "output_type": "display_data"
    },
    {
     "name": "stdout",
     "output_type": "stream",
     "text": [
      "Root Mean Squared Error: 0.07013871074846924\n",
      "R-squared: 0.9020373465972283\n"
     ]
    }
   ],
   "source": [
    "def plot_feature_importances(model, feat_names):\n",
    "    \"\"\" plots feature importances from a RandomForestRegressor model\n",
    "\n",
    "    Args:\n",
    "        model (RandomForestRegressor): trained RandomForestRegressor model\n",
    "        feat_names (list): list of feature names\n",
    "    \n",
    "    Returns:\n",
    "        null: plotting \n",
    "    \"\"\"\n",
    "    \n",
    "    # get feature importance (take top 7)\n",
    "    importance = model.feature_importances_[:7]\n",
    "\n",
    "    # create a dataframe for plotting\n",
    "    feature_importance = pd.DataFrame({\n",
    "        'Feature': feat_names[:7],\n",
    "        'Importance': importance\n",
    "    }).sort_values(by='Importance', ascending=False)\n",
    "\n",
    "    # plot\n",
    "    plt.figure(figsize=(12, 8))\n",
    "    sns.barplot(x='Importance', y='Feature', data=feature_importance)\n",
    "    plt.title('Feature Importance', fontsize=17.5)\n",
    "    plt.xlabel('Importance')\n",
    "    plt.xticks(fontsize=14)\n",
    "    plt.yticks(fontsize=12.5)\n",
    "    plt.ylabel('Feature')\n",
    "    plt.savefig('feat_imp.png')\n",
    "    plt.show()\n",
    "    \n",
    "\n",
    "def random_forest_regrssor(data_df):\n",
    "    \"\"\" creates a random forest regressor and fits the data to predict the combat power of each pal\n",
    "    \n",
    "    Args:\n",
    "        data_df (pandas dataframe): a pandas dataframe of all the data for each pal\n",
    "        \n",
    "    Returns:\n",
    "        r_2 (float): the r^2 value of the model\n",
    "        mse (float): the mean squared error of the model\n",
    "    \"\"\"\n",
    "    \n",
    "    # normalize the combat power column\n",
    "    max_v = data_df['CP'].max()\n",
    "    min_v = data_df['CP'].min()\n",
    "    data_df['Normalized CP'] = (data_df['CP'] - min_v) / (max_v - min_v)\n",
    "\n",
    "\n",
    "    # encode categorical variables\n",
    "    df_encoded = pd.get_dummies(data_df, columns=['Rarity', 'Element Type'], drop_first=True)\n",
    "\n",
    "    # define x features  and y target (drop un-needed columns)\n",
    "    x = df_encoded.drop(columns=['Name', 'CP', 'Normalized CP', 'Abilities'])  \n",
    "    y = df_encoded['Normalized CP']\n",
    "    \n",
    "    # create the random forest regressor\n",
    "    rfr = RandomForestRegressor(max_depth=3, random_state=42, n_estimators=500)\n",
    "\n",
    "    # create a kfold for a 10-fold cross validation\n",
    "    kfold = KFold(n_splits=10, shuffle=True, random_state=42)\n",
    "\n",
    "    # set y_pred\n",
    "    y_pred = np.empty_like(y)\n",
    "    \n",
    "    # perform cross-validation\n",
    "    for train_idx, test_idx in kfold.split(x):\n",
    "        x_train, x_test = x.iloc[train_idx], x.iloc[test_idx]\n",
    "        y_train, y_test = y.iloc[train_idx], y.iloc[test_idx]\n",
    "    \n",
    "        rfr.fit(x_train, y_train)\n",
    "        y_pred[test_idx] = rfr.predict(x_test)\n",
    "    \n",
    "    # plot feature importance\n",
    "    feature_names = x.columns\n",
    "    plot_feature_importances(rfr, feature_names)\n",
    "    \n",
    "    # evaluate the model\n",
    "    rmse = np.sqrt(mean_squared_error(y, y_pred))\n",
    "    r2 = r2_score(y, y_pred)\n",
    "\n",
    "    # output the performance\n",
    "    print(f\"Root Mean Squared Error: {rmse}\")\n",
    "    print(f\"R-squared: {r2}\")\n",
    "    \n",
    "random_forest_regrssor(pals_df)"
   ],
   "metadata": {
    "collapsed": false,
    "ExecuteTime": {
     "end_time": "2024-08-18T15:09:01.864833Z",
     "start_time": "2024-08-18T15:08:58.612378Z"
    }
   }
  },
  {
   "cell_type": "markdown",
   "source": [
    " ##### Analysis:\n",
    "An R-Squared value of roughly 0.90 tells us that 90% of our variance is explained, which is good considering the type of model and that cross-validation has been applied. Our root mean squared error tells us that on average we were off by 0.07 combat power units, which is fairly good considering combat power ranges from 0 to 1. The price and health points tended to dictate most of the predictions, which aligns with our scatterplot matrix correlation."
   ],
   "metadata": {
    "collapsed": false
   }
  },
  {
   "cell_type": "markdown",
   "source": [
    "#### Model 2: PCA to Find Element Type Distinctions"
   ],
   "metadata": {
    "collapsed": false
   }
  },
  {
   "cell_type": "markdown",
   "source": [
    "We have chosen to use a PCA because we believe that if certain Element Types have distinctions/advantages, each Element Type would cluster. PCA is good for understanding the data and identifying the key features that explain the most variance. Explained variance, loading, and biplots will help us determine how well the PCA captures these distinctions and which features contribute most to the differences."
   ],
   "metadata": {
    "collapsed": false
   }
  },
  {
   "cell_type": "code",
   "execution_count": 30,
   "outputs": [
    {
     "data": {
      "application/vnd.plotly.v1+json": {
       "data": [
        {
         "customdata": [
          [
           "Anubis",
           "Epic"
          ],
          [
           "Dazemu",
           "Rare"
          ],
          [
           "Digtoise",
           "Rare"
          ],
          [
           "Dumud",
           "Common"
          ],
          [
           "Eikthyrdeer Terra",
           "Rare"
          ],
          [
           "Fuddler",
           "Common"
          ],
          [
           "Gorirat Terra",
           "Rare"
          ],
          [
           "Gumoss",
           "Common"
          ],
          [
           "Hangyu",
           "Common"
          ],
          [
           "Kikit",
           "Common"
          ],
          [
           "Knocklem",
           "Epic"
          ],
          [
           "Menasting",
           "Epic"
          ],
          [
           "Menasting Terra",
           "Epic"
          ],
          [
           "Prixter",
           "Rare"
          ],
          [
           "Reptyro",
           "Rare"
          ],
          [
           "Reptyro Cryst",
           "Rare"
          ],
          [
           "Robinquill Terra",
           "Rare"
          ],
          [
           "Rushoar",
           "Common"
          ],
          [
           "Surfent Terra",
           "Rare"
          ],
          [
           "Warsect",
           "Epic"
          ],
          [
           "Warsect Terra",
           "Epic"
          ]
         ],
         "hovertemplate": "Element Type=Earth<br>pca0=%{x}<br>pca1=%{y}<br>Name=%{customdata[0]}<br>Rarity=%{customdata[1]}<extra></extra>",
         "legendgroup": "Earth",
         "marker": {
          "color": "#636efa",
          "symbol": "circle"
         },
         "mode": "markers",
         "name": "Earth",
         "orientation": "v",
         "showlegend": true,
         "x": [
          0.09308228510920856,
          -0.718219665993643,
          -0.5947719999996408,
          -0.002973118803545749,
          -0.6957731927445605,
          -1.1546154845497372,
          -0.23378780129978405,
          -1.1721824380520165,
          -1.271579643198406,
          -0.6541006714822448,
          1.96360336389104,
          0.8162738995848429,
          1.1617253976725264,
          -0.26346847957674036,
          0.7740653844877153,
          0.9261189962223287,
          -0.8794615257748003,
          -1.0427911889784576,
          0.15273302932885457,
          0.736648825202566,
          1.0821003232902495
         ],
         "xaxis": "x",
         "y": [
          0.9615179434141331,
          1.997219463296201,
          -0.9695888803203881,
          -0.5370083033708403,
          0.9306112789120982,
          -0.515785518128715,
          -0.023054794391709342,
          -0.7757105135133161,
          -0.2017534307875712,
          1.0577814256932025,
          -1.1292987160771517,
          1.46078033410915,
          1.2810516178813254,
          -1.1136609772492114,
          -1.2669165477007598,
          -1.3441003357725931,
          0.5506450200890539,
          0.14459957437066803,
          -0.4101105410160973,
          -0.9002377983767893,
          -1.0799665146046151
         ],
         "yaxis": "y",
         "type": "scatter"
        },
        {
         "customdata": [
          [
           "Arsox",
           "Common"
          ],
          [
           "Blazamut",
           "Epic"
          ],
          [
           "Blazamut Ryu",
           "Epic"
          ],
          [
           "Blazehowl",
           "Rare"
          ],
          [
           "Blazehowl Noct",
           "Epic"
          ],
          [
           "Bushi",
           "Rare"
          ],
          [
           "Bushi Noct",
           "Rare"
          ],
          [
           "Chillet Ignis",
           "Rare"
          ],
          [
           "Faleris",
           "Epic"
          ],
          [
           "Flambelle",
           "Common"
          ],
          [
           "Foxparks",
           "Common"
          ],
          [
           "Gobfin Ignis",
           "Common"
          ],
          [
           "Incineram",
           "Common"
          ],
          [
           "Jormuntide Ignis",
           "Epic"
          ],
          [
           "Katress Ignis",
           "Rare"
          ],
          [
           "Kelpsea Ignis",
           "Common"
          ],
          [
           "Kitsun",
           "Rare"
          ],
          [
           "Leezpunk Ignis",
           "Common"
          ],
          [
           "Pyrin",
           "Rare"
          ],
          [
           "Pyrin Noct",
           "Rare"
          ],
          [
           "Ragnahawk",
           "Rare"
          ],
          [
           "Reptyro",
           "Rare"
          ],
          [
           "Rooby",
           "Common"
          ],
          [
           "Sootseer",
           "Rare"
          ],
          [
           "Suzaku",
           "Epic"
          ],
          [
           "Vanwyrm",
           "Common"
          ],
          [
           "Wixen",
           "Rare"
          ],
          [
           "Wixen Noct",
           "Rare"
          ]
         ],
         "hovertemplate": "Element Type=Fire<br>pca0=%{x}<br>pca1=%{y}<br>Name=%{customdata[0]}<br>Rarity=%{customdata[1]}<extra></extra>",
         "legendgroup": "Fire",
         "marker": {
          "color": "#EF553B",
          "symbol": "circle"
         },
         "mode": "markers",
         "name": "Fire",
         "orientation": "v",
         "showlegend": true,
         "x": [
          -0.40606541128295154,
          2.0133280019950894,
          2.0134059426809605,
          -0.22554108694761563,
          -0.11508286721796124,
          -0.06036130064882829,
          -0.06034615693517302,
          -0.08485831304549264,
          0.7032644593302875,
          -0.7613092364863823,
          -1.2647832573906295,
          -1.0020848502571111,
          0.030168894012663146,
          1.6596947463678593,
          -0.19989191523948607,
          -1.1934587655182989,
          -0.5262489658922028,
          -1.0572792753448041,
          0.7018871083349315,
          0.8918772603493168,
          0.7019884695040476,
          0.7740653844877153,
          -0.6047334393490956,
          0.06870260783999721,
          1.7797709930334895,
          -0.11520183261222088,
          -0.5593748121061327,
          -0.2139080967139676
         ],
         "xaxis": "x",
         "y": [
          0.38216410263210154,
          -0.3108348235296332,
          -0.30833611969570396,
          0.8205962512620661,
          0.7006539537263531,
          0.396981851570129,
          0.3976590731022023,
          0.23773485221826463,
          2.068721019264473,
          -1.1154906128192168,
          -0.22774586927449222,
          -0.43938583345001214,
          0.6920632861576645,
          -1.0175811645061401,
          -0.4730639263723213,
          1.1244354435866386,
          0.8519766762983682,
          -0.20897511487493015,
          1.4073358238827607,
          1.308129932933782,
          1.3190165258860376,
          -1.2669165477007598,
          -0.5035752223006464,
          1.0069745816273954,
          0.4844244995114999,
          0.5854306983650235,
          -0.2943660626193594,
          -0.47372400981527685
         ],
         "yaxis": "y",
         "type": "scatter"
        },
        {
         "customdata": [
          [
           "Astegon",
           "Epic"
          ],
          [
           "Azurobe",
           "Rare"
          ],
          [
           "Blazamut Ryu",
           "Epic"
          ],
          [
           "Chillet",
           "Common"
          ],
          [
           "Chillet Ignis",
           "Rare"
          ],
          [
           "Dinossom",
           "Rare"
          ],
          [
           "Dinossom Lux",
           "Rare"
          ],
          [
           "Elphidran",
           "Rare"
          ],
          [
           "Elphidran Aqua",
           "Epic"
          ],
          [
           "Jetragon",
           "Legendary"
          ],
          [
           "Jormuntide",
           "Epic"
          ],
          [
           "Jormuntide Ignis",
           "Epic"
          ],
          [
           "Orserk",
           "Epic"
          ],
          [
           "Quivern",
           "Rare"
          ],
          [
           "Quivern Botan",
           "Epic"
          ],
          [
           "Relaxaurus",
           "Epic"
          ],
          [
           "Relaxaurus Lux",
           "Epic"
          ],
          [
           "Xenogard",
           "Epic"
          ]
         ],
         "hovertemplate": "Element Type=Dragon<br>pca0=%{x}<br>pca1=%{y}<br>Name=%{customdata[0]}<br>Rarity=%{customdata[1]}<extra></extra>",
         "legendgroup": "Dragon",
         "marker": {
          "color": "#00cc96",
          "symbol": "circle"
         },
         "mode": "markers",
         "name": "Dragon",
         "orientation": "v",
         "showlegend": true,
         "x": [
          1.2114283735517648,
          0.31251748914489136,
          2.0134059426809605,
          -0.430309811133176,
          -0.08485831304549264,
          -0.5032582153709992,
          -0.4548816817928554,
          0.18480295431430319,
          0.21595499175844726,
          1.3900476402260955,
          1.597485628866314,
          1.6596947463678593,
          1.2545615783273005,
          0.7390009173368071,
          1.0844524154244906,
          1.9153261888201334,
          1.963748576260448,
          1.4237361529046821
         ],
         "xaxis": "x",
         "y": [
          -0.379473859662711,
          -0.017029230549350537,
          -0.30833611969570396,
          0.41746356844609017,
          0.23773485221826463,
          0.08221996173699112,
          0.05767355719225714,
          0.1323081741654283,
          0.1178896471051001,
          8.09029051503522,
          -0.9864941995547305,
          -1.0175811645061401,
          1.0194398982208621,
          0.6184118848302346,
          0.4386831686024091,
          -0.8238972229822268,
          -0.8466798047220938,
          0.7383461728400403
         ],
         "yaxis": "y",
         "type": "scatter"
        },
        {
         "customdata": [
          [
           "Astegon",
           "Epic"
          ],
          [
           "Bellanoir",
           "Legendary"
          ],
          [
           "Bellanoir Libero",
           "Legendary"
          ],
          [
           "Blazehowl Noct",
           "Epic"
          ],
          [
           "Bushi Noct",
           "Rare"
          ],
          [
           "Cawgnito",
           "Common"
          ],
          [
           "Daedream",
           "Common"
          ],
          [
           "Depresso",
           "Common"
          ],
          [
           "Felbat",
           "Rare"
          ],
          [
           "Frostallion Noct",
           "Legendary"
          ],
          [
           "Helzephyr",
           "Rare"
          ],
          [
           "Helzephyr Lux",
           "Epic"
          ],
          [
           "Hoocrates",
           "Common"
          ],
          [
           "Incineram",
           "Common"
          ],
          [
           "Incineram Noct",
           "Rare"
          ],
          [
           "Katress",
           "Rare"
          ],
          [
           "Katress Ignis",
           "Rare"
          ],
          [
           "Killamari",
           "Common"
          ],
          [
           "Leezpunk",
           "Common"
          ],
          [
           "Loupmoon",
           "Common"
          ],
          [
           "Lyleen Noct",
           "Epic"
          ],
          [
           "Maraith",
           "Rare"
          ],
          [
           "Mau",
           "Common"
          ],
          [
           "Menasting",
           "Epic"
          ],
          [
           "Necromus",
           "Legendary"
          ],
          [
           "Nox",
           "Rare"
          ],
          [
           "Prixter",
           "Rare"
          ],
          [
           "Pyrin Noct",
           "Rare"
          ],
          [
           "Selyne",
           "Epic"
          ],
          [
           "Shadowbeak",
           "Epic"
          ],
          [
           "Shroomer Noct",
           "Rare"
          ],
          [
           "Sootseer",
           "Rare"
          ],
          [
           "Tombat",
           "Rare"
          ],
          [
           "Vanwyrm",
           "Common"
          ],
          [
           "Vanwyrm Cryst",
           "Rare"
          ],
          [
           "Wixen Noct",
           "Rare"
          ],
          [
           "Xenovader",
           "Rare"
          ]
         ],
         "hovertemplate": "Element Type=Dark<br>pca0=%{x}<br>pca1=%{y}<br>Name=%{customdata[0]}<br>Rarity=%{customdata[1]}<extra></extra>",
         "legendgroup": "Dark",
         "marker": {
          "color": "#ab63fa",
          "symbol": "circle"
         },
         "mode": "markers",
         "name": "Dark",
         "orientation": "v",
         "showlegend": true,
         "x": [
          1.2114283735517646,
          1.8431899682012587,
          1.8431899682012587,
          -0.11508286721796124,
          -0.06034615693517302,
          -0.9842978078793119,
          -1.1647714907072206,
          -1.262183456489644,
          -0.8969372987901987,
          1.3397636011058178,
          1.0879222448053099,
          1.4333903368726613,
          -1.261360583826155,
          0.030168894012663146,
          0.06127362732862437,
          -0.1999236529328094,
          -0.19989191523948607,
          -1.2094352732424385,
          -1.0281928221704917,
          -0.79293000401948,
          1.0057191926030877,
          -1.0798997343787287,
          -1.2783336861502133,
          0.8162738995848429,
          1.4669306770863324,
          -1.1132121455100925,
          -0.26346847957674036,
          0.8918772603493168,
          1.6591435317011787,
          1.5107213641231876,
          -0.15834077565371316,
          0.06870260783999721,
          -0.30739178302755726,
          -0.11520183261222088,
          -0.028796628308760605,
          -0.2139080967139676,
          0.7093937454986385
         ],
         "xaxis": "x",
         "y": [
          -0.3794738596627065,
          -0.7512386606753331,
          -0.7512386606753331,
          0.7006539537263531,
          0.3976590731022023,
          2.18369769354444,
          -0.4242920979854079,
          -0.7957741343705026,
          0.2739719825455667,
          1.9146251563427787,
          0.4910900580612605,
          0.3113803906216115,
          -0.29866272092757445,
          0.6920632861576645,
          0.6765391090363662,
          -0.4737601966925712,
          -0.4730639263723213,
          -0.21333768657577493,
          0.7202888245379271,
          0.6122714083096588,
          -1.2412656254581753,
          0.7513016223637742,
          -0.039407446238541734,
          1.46078033410915,
          1.7592274566155905,
          -0.6397527627739436,
          -1.1136609772492114,
          1.308129932933782,
          -1.5372545535433564,
          0.7853682472992901,
          -0.45343204188718167,
          1.0069745816273954,
          -0.6304119535542706,
          0.5854306983650235,
          0.5421219947615251,
          -0.47372400981527685,
          -0.4328554904236454
         ],
         "yaxis": "y",
         "type": "scatter"
        },
        {
         "customdata": [
          [
           "Azurobe",
           "Rare"
          ],
          [
           "Broncherry Aqua",
           "Epic"
          ],
          [
           "Celaray",
           "Common"
          ],
          [
           "Croajiro",
           "Common"
          ],
          [
           "Elphidran Aqua",
           "Epic"
          ],
          [
           "Fuack",
           "Common"
          ],
          [
           "Gobfin",
           "Common"
          ],
          [
           "Jormuntide",
           "Epic"
          ],
          [
           "Kelpsea",
           "Common"
          ],
          [
           "Pengullet",
           "Common"
          ],
          [
           "Penking",
           "Rare"
          ],
          [
           "Relaxaurus",
           "Epic"
          ],
          [
           "Surfent",
           "Common"
          ],
          [
           "Suzaku Aqua",
           "Epic"
          ],
          [
           "Teafant",
           "Common"
          ]
         ],
         "hovertemplate": "Element Type=Water<br>pca0=%{x}<br>pca1=%{y}<br>Name=%{customdata[0]}<br>Rarity=%{customdata[1]}<extra></extra>",
         "legendgroup": "Water",
         "marker": {
          "color": "#FFA15A",
          "symbol": "circle"
         },
         "mode": "markers",
         "name": "Water",
         "orientation": "v",
         "showlegend": true,
         "x": [
          0.3125174891448912,
          -0.5493944292010943,
          -0.6349209946484721,
          -0.9196601644473154,
          0.21595499175844726,
          -1.2379059322977324,
          -0.9882677591777429,
          1.597485628866314,
          -1.1865503945438034,
          -1.2503210458026988,
          0.2455332971717488,
          1.9153261888201334,
          0.12152059913248892,
          1.873070801272976,
          -1.2794532792483546
         ],
         "xaxis": "x",
         "y": [
          -0.017029230549349374,
          -0.7715015220909198,
          0.059757179674022914,
          -0.8293960664244452,
          0.1178896471051001,
          -0.7044023193767541,
          -0.44664222609757276,
          -0.9864941995547305,
          1.1207879419084525,
          0.16419982279554607,
          -0.7730844391473632,
          -0.8238972229822268,
          -0.39825554745390007,
          0.43643935245401,
          -0.7671343919223437
         ],
         "yaxis": "y",
         "type": "scatter"
        },
        {
         "customdata": [
          [
           "Beakon",
           "Rare"
          ],
          [
           "Dazzi",
           "Common"
          ],
          [
           "Dinossom Lux",
           "Rare"
          ],
          [
           "Grizzbolt",
           "Epic"
          ],
          [
           "Helzephyr Lux",
           "Epic"
          ],
          [
           "Jolthog",
           "Common"
          ],
          [
           "Mossanda Lux",
           "Rare"
          ],
          [
           "Orserk",
           "Epic"
          ],
          [
           "Rayhound",
           "Rare"
          ],
          [
           "Relaxaurus Lux",
           "Epic"
          ],
          [
           "Sparkit",
           "Common"
          ],
          [
           "Univolt",
           "Rare"
          ]
         ],
         "hovertemplate": "Element Type=Electricity<br>pca0=%{x}<br>pca1=%{y}<br>Name=%{customdata[0]}<br>Rarity=%{customdata[1]}<extra></extra>",
         "legendgroup": "Electricity",
         "marker": {
          "color": "#19d3f3",
          "symbol": "circle"
         },
         "mode": "markers",
         "name": "Electricity",
         "orientation": "v",
         "showlegend": true,
         "x": [
          0.9673599147743647,
          -1.1434541558624964,
          -0.4548816817928554,
          1.0437519339307058,
          1.4333903368726613,
          -1.2578750645232155,
          0.6607092803936644,
          1.2545615783273005,
          -0.2802272180774274,
          1.963748576260448,
          -1.2686222918715215,
          -0.14211089906776717
         ],
         "xaxis": "x",
         "y": [
          0.8616461239300199,
          -0.11629592170985532,
          0.05767355719225714,
          -1.17990554592636,
          0.3113803906216115,
          -0.25163044801248674,
          -0.6684764929503912,
          1.0194398982208621,
          1.3073299815296875,
          -0.8466798047220938,
          -0.43771171806290543,
          1.1153925439286692
         ],
         "yaxis": "y",
         "type": "scatter"
        },
        {
         "customdata": [
          [
           "Beegarde",
           "Common"
          ],
          [
           "Bristla",
           "Common"
          ],
          [
           "Broncherry",
           "Rare"
          ],
          [
           "Broncherry Aqua",
           "Epic"
          ],
          [
           "Caprity",
           "Common"
          ],
          [
           "Cinnamoth",
           "Common"
          ],
          [
           "Dinossom",
           "Rare"
          ],
          [
           "Elizabee",
           "Epic"
          ],
          [
           "Flopie",
           "Common"
          ],
          [
           "Gumoss",
           "Common"
          ],
          [
           "Lifmunk",
           "Common"
          ],
          [
           "Lullu",
           "Common"
          ],
          [
           "Lyleen",
           "Epic"
          ],
          [
           "Mammorest",
           "Epic"
          ],
          [
           "Mossanda",
           "Rare"
          ],
          [
           "Petallia",
           "Epic"
          ],
          [
           "Quivern Botan",
           "Epic"
          ],
          [
           "Robinquill",
           "Rare"
          ],
          [
           "Robinquill Terra",
           "Rare"
          ],
          [
           "Shroomer",
           "Common"
          ],
          [
           "Shroomer Noct",
           "Rare"
          ],
          [
           "Tanzee",
           "Common"
          ],
          [
           "Vaelet",
           "Epic"
          ],
          [
           "Verdash",
           "Epic"
          ],
          [
           "Warsect",
           "Epic"
          ],
          [
           "Wumpo Botan",
           "Epic"
          ]
         ],
         "hovertemplate": "Element Type=Leaf<br>pca0=%{x}<br>pca1=%{y}<br>Name=%{customdata[0]}<br>Rarity=%{customdata[1]}<extra></extra>",
         "legendgroup": "Leaf",
         "marker": {
          "color": "#FF6692",
          "symbol": "circle"
         },
         "mode": "markers",
         "name": "Leaf",
         "orientation": "v",
         "showlegend": true,
         "x": [
          -0.973826041932345,
          -1.2300053274175178,
          -0.6150427630414206,
          -0.5493944292010943,
          -0.7565649758956958,
          0.34608442141453666,
          -0.5032582153709992,
          0.7363345696968324,
          -1.2022871366208119,
          -1.1721824380520165,
          -1.2751625357365122,
          -0.4414492271327291,
          0.8502112208160378,
          1.6415712307418593,
          0.51898846138905,
          -0.38219960071761555,
          1.0844524154244906,
          -0.914005475429543,
          -0.8794615257748003,
          -0.3587091515390634,
          -0.15834077565371316,
          -1.182488495808836,
          -0.9460902528805166,
          -0.8627426181431658,
          0.736648825202566,
          0.3457625910755863
         ],
         "xaxis": "x",
         "y": [
          -0.08355181382143768,
          -0.21852468792993546,
          -0.7379328901227504,
          -0.7715015220909198,
          -0.421463184038411,
          -0.45270482484465757,
          0.08221996173699112,
          -0.9185705829018262,
          -0.1302927126968445,
          -0.7757105135133161,
          -0.2635611298897451,
          -0.10006760425746071,
          -1.1622773919016551,
          -1.4298060608984702,
          -0.5980604843967658,
          0.08554701349055867,
          0.4386831686024091,
          0.5686508642271129,
          0.5506450200890539,
          -0.3494900360162147,
          -0.45343204188718167,
          -0.773099028036529,
          -0.24446348854830535,
          0.12578849791556987,
          -0.9002377983767893,
          -1.054955753510823
         ],
         "yaxis": "y",
         "type": "scatter"
        },
        {
         "customdata": [
          [
           "Cattiva",
           "Common"
          ],
          [
           "Chikipi",
           "Common"
          ],
          [
           "Cremis",
           "Common"
          ],
          [
           "Direhowl",
           "Common"
          ],
          [
           "Dogen",
           "Rare"
          ],
          [
           "Eikthyrdeer",
           "Common"
          ],
          [
           "Fenglope",
           "Common"
          ],
          [
           "Galeclaw",
           "Common"
          ],
          [
           "Gorirat",
           "Rare"
          ],
          [
           "Grintale",
           "Rare"
          ],
          [
           "Kingpaca",
           "Epic"
          ],
          [
           "Lamball",
           "Common"
          ],
          [
           "Lovander",
           "Rare"
          ],
          [
           "Lunaris",
           "Rare"
          ],
          [
           "Melpaca",
           "Common"
          ],
          [
           "Mimog",
           "Rare"
          ],
          [
           "Mozzarina",
           "Common"
          ],
          [
           "Nitewing",
           "Common"
          ],
          [
           "Paladius",
           "Legendary"
          ],
          [
           "Ribbuny",
           "Common"
          ],
          [
           "Selyne",
           "Epic"
          ],
          [
           "Tocotoco",
           "Common"
          ],
          [
           "Vixy",
           "Common"
          ],
          [
           "Woolipop",
           "Common"
          ],
          [
           "Yakumo",
           "Common"
          ]
         ],
         "hovertemplate": "Element Type=Normal<br>pca0=%{x}<br>pca1=%{y}<br>Name=%{customdata[0]}<br>Rarity=%{customdata[1]}<extra></extra>",
         "legendgroup": "Normal",
         "marker": {
          "color": "#B6E880",
          "symbol": "circle"
         },
         "mode": "markers",
         "name": "Normal",
         "orientation": "v",
         "showlegend": true,
         "x": [
          -1.2786163685514897,
          -1.2787876841278671,
          -1.1340892374651361,
          -0.9575074392397712,
          -0.0900960805448481,
          -0.716500051319935,
          -0.8432816459412559,
          -0.9282033413583618,
          -0.9281293155531765,
          0.28119660717347306,
          0.38102335940432913,
          -1.2786389540030374,
          -0.7751245774079198,
          -1.0149056945682788,
          -0.6761280505984043,
          0.5041636306555599,
          -0.7176456273859987,
          0.5542913612084621,
          1.424457203481327,
          -1.2243200266321093,
          1.6591435317011787,
          -1.2478678216330634,
          -1.2790999933828446,
          -1.1237887207450228,
          -0.463187816553116
         ],
         "xaxis": "x",
         "y": [
          -0.24148099663643746,
          -0.25688716193110694,
          -0.7525288963943397,
          1.6100552796575076,
          -1.0228474862774983,
          0.9413607304025966,
          1.451754858404415,
          0.46445780754314886,
          0.3389615264983265,
          -0.09399921370514903,
          -0.46078170957611947,
          -0.2561613672986469,
          0.9930005784314763,
          0.15842241092192366,
          0.1723812711175377,
          1.0647471653752623,
          0.21705468459869462,
          -0.09341780016182852,
          1.0502636110891217,
          -0.9688303423879717,
          -1.5372545535433564,
          -0.4668014629316051,
          -0.5560217572606808,
          -0.8006124529825772,
          -0.700423492634402
         ],
         "yaxis": "y",
         "type": "scatter"
        },
        {
         "customdata": [
          [
           "Chillet",
           "Common"
          ],
          [
           "Cryolinx",
           "Rare"
          ],
          [
           "Foxcicle",
           "Rare"
          ],
          [
           "Frostallion",
           "Legendary"
          ],
          [
           "Hangyu Cryst",
           "Common"
          ],
          [
           "Jolthog Cryst",
           "Common"
          ],
          [
           "Kingpaca Cryst",
           "Epic"
          ],
          [
           "Mammorest Cryst",
           "Epic"
          ],
          [
           "Mau Cryst",
           "Common"
          ],
          [
           "Pengullet",
           "Common"
          ],
          [
           "Penking",
           "Rare"
          ],
          [
           "Reindrix",
           "Common"
          ],
          [
           "Reptyro Cryst",
           "Rare"
          ],
          [
           "Sibelyx",
           "Rare"
          ],
          [
           "Swee",
           "Common"
          ],
          [
           "Sweepa",
           "Rare"
          ],
          [
           "Vanwyrm Cryst",
           "Rare"
          ],
          [
           "Wumpo",
           "Rare"
          ]
         ],
         "hovertemplate": "Element Type=Ice<br>pca0=%{x}<br>pca1=%{y}<br>Name=%{customdata[0]}<br>Rarity=%{customdata[1]}<extra></extra>",
         "legendgroup": "Ice",
         "marker": {
          "color": "#FF97FF",
          "symbol": "circle"
         },
         "mode": "markers",
         "name": "Ice",
         "orientation": "v",
         "showlegend": true,
         "x": [
          -0.430309811133176,
          1.2945561917425783,
          -0.33366265056268507,
          1.298219150031036,
          -1.271549006640718,
          -1.254358935043372,
          0.48465451010780186,
          1.6864782605539117,
          -1.2748638332537436,
          -1.2503210458026988,
          0.2455332971717488,
          -0.6553346054165966,
          0.9261189962223287,
          0.41464599393314344,
          -1.2173894940331973,
          0.5868173301372752,
          -0.028796628308760605,
          0.4147880226969093
         ],
         "xaxis": "x",
         "y": [
          0.41746356844609017,
          -0.005417011669050548,
          0.19618073278845383,
          1.9330186983406425,
          -0.20036037701461218,
          -0.2512230802427743,
          -0.5148764634079207,
          -1.453225241490591,
          -0.040496059482343354,
          0.16419982279554607,
          -0.7730844391473632,
          0.08973590972108132,
          -1.3441003357725931,
          -1.0659761612471592,
          -0.8515467198625343,
          -1.4520557595564525,
          0.5421219947615251,
          -1.093256476458965
         ],
         "yaxis": "y",
         "type": "scatter"
        }
       ],
       "layout": {
        "template": {
         "data": {
          "histogram2dcontour": [
           {
            "type": "histogram2dcontour",
            "colorbar": {
             "outlinewidth": 0,
             "ticks": ""
            },
            "colorscale": [
             [
              0.0,
              "#0d0887"
             ],
             [
              0.1111111111111111,
              "#46039f"
             ],
             [
              0.2222222222222222,
              "#7201a8"
             ],
             [
              0.3333333333333333,
              "#9c179e"
             ],
             [
              0.4444444444444444,
              "#bd3786"
             ],
             [
              0.5555555555555556,
              "#d8576b"
             ],
             [
              0.6666666666666666,
              "#ed7953"
             ],
             [
              0.7777777777777778,
              "#fb9f3a"
             ],
             [
              0.8888888888888888,
              "#fdca26"
             ],
             [
              1.0,
              "#f0f921"
             ]
            ]
           }
          ],
          "choropleth": [
           {
            "type": "choropleth",
            "colorbar": {
             "outlinewidth": 0,
             "ticks": ""
            }
           }
          ],
          "histogram2d": [
           {
            "type": "histogram2d",
            "colorbar": {
             "outlinewidth": 0,
             "ticks": ""
            },
            "colorscale": [
             [
              0.0,
              "#0d0887"
             ],
             [
              0.1111111111111111,
              "#46039f"
             ],
             [
              0.2222222222222222,
              "#7201a8"
             ],
             [
              0.3333333333333333,
              "#9c179e"
             ],
             [
              0.4444444444444444,
              "#bd3786"
             ],
             [
              0.5555555555555556,
              "#d8576b"
             ],
             [
              0.6666666666666666,
              "#ed7953"
             ],
             [
              0.7777777777777778,
              "#fb9f3a"
             ],
             [
              0.8888888888888888,
              "#fdca26"
             ],
             [
              1.0,
              "#f0f921"
             ]
            ]
           }
          ],
          "heatmap": [
           {
            "type": "heatmap",
            "colorbar": {
             "outlinewidth": 0,
             "ticks": ""
            },
            "colorscale": [
             [
              0.0,
              "#0d0887"
             ],
             [
              0.1111111111111111,
              "#46039f"
             ],
             [
              0.2222222222222222,
              "#7201a8"
             ],
             [
              0.3333333333333333,
              "#9c179e"
             ],
             [
              0.4444444444444444,
              "#bd3786"
             ],
             [
              0.5555555555555556,
              "#d8576b"
             ],
             [
              0.6666666666666666,
              "#ed7953"
             ],
             [
              0.7777777777777778,
              "#fb9f3a"
             ],
             [
              0.8888888888888888,
              "#fdca26"
             ],
             [
              1.0,
              "#f0f921"
             ]
            ]
           }
          ],
          "heatmapgl": [
           {
            "type": "heatmapgl",
            "colorbar": {
             "outlinewidth": 0,
             "ticks": ""
            },
            "colorscale": [
             [
              0.0,
              "#0d0887"
             ],
             [
              0.1111111111111111,
              "#46039f"
             ],
             [
              0.2222222222222222,
              "#7201a8"
             ],
             [
              0.3333333333333333,
              "#9c179e"
             ],
             [
              0.4444444444444444,
              "#bd3786"
             ],
             [
              0.5555555555555556,
              "#d8576b"
             ],
             [
              0.6666666666666666,
              "#ed7953"
             ],
             [
              0.7777777777777778,
              "#fb9f3a"
             ],
             [
              0.8888888888888888,
              "#fdca26"
             ],
             [
              1.0,
              "#f0f921"
             ]
            ]
           }
          ],
          "contourcarpet": [
           {
            "type": "contourcarpet",
            "colorbar": {
             "outlinewidth": 0,
             "ticks": ""
            }
           }
          ],
          "contour": [
           {
            "type": "contour",
            "colorbar": {
             "outlinewidth": 0,
             "ticks": ""
            },
            "colorscale": [
             [
              0.0,
              "#0d0887"
             ],
             [
              0.1111111111111111,
              "#46039f"
             ],
             [
              0.2222222222222222,
              "#7201a8"
             ],
             [
              0.3333333333333333,
              "#9c179e"
             ],
             [
              0.4444444444444444,
              "#bd3786"
             ],
             [
              0.5555555555555556,
              "#d8576b"
             ],
             [
              0.6666666666666666,
              "#ed7953"
             ],
             [
              0.7777777777777778,
              "#fb9f3a"
             ],
             [
              0.8888888888888888,
              "#fdca26"
             ],
             [
              1.0,
              "#f0f921"
             ]
            ]
           }
          ],
          "surface": [
           {
            "type": "surface",
            "colorbar": {
             "outlinewidth": 0,
             "ticks": ""
            },
            "colorscale": [
             [
              0.0,
              "#0d0887"
             ],
             [
              0.1111111111111111,
              "#46039f"
             ],
             [
              0.2222222222222222,
              "#7201a8"
             ],
             [
              0.3333333333333333,
              "#9c179e"
             ],
             [
              0.4444444444444444,
              "#bd3786"
             ],
             [
              0.5555555555555556,
              "#d8576b"
             ],
             [
              0.6666666666666666,
              "#ed7953"
             ],
             [
              0.7777777777777778,
              "#fb9f3a"
             ],
             [
              0.8888888888888888,
              "#fdca26"
             ],
             [
              1.0,
              "#f0f921"
             ]
            ]
           }
          ],
          "mesh3d": [
           {
            "type": "mesh3d",
            "colorbar": {
             "outlinewidth": 0,
             "ticks": ""
            }
           }
          ],
          "scatter": [
           {
            "marker": {
             "line": {
              "color": "#283442"
             }
            },
            "type": "scatter"
           }
          ],
          "parcoords": [
           {
            "type": "parcoords",
            "line": {
             "colorbar": {
              "outlinewidth": 0,
              "ticks": ""
             }
            }
           }
          ],
          "scatterpolargl": [
           {
            "type": "scatterpolargl",
            "marker": {
             "colorbar": {
              "outlinewidth": 0,
              "ticks": ""
             }
            }
           }
          ],
          "bar": [
           {
            "error_x": {
             "color": "#f2f5fa"
            },
            "error_y": {
             "color": "#f2f5fa"
            },
            "marker": {
             "line": {
              "color": "rgb(17,17,17)",
              "width": 0.5
             },
             "pattern": {
              "fillmode": "overlay",
              "size": 10,
              "solidity": 0.2
             }
            },
            "type": "bar"
           }
          ],
          "scattergeo": [
           {
            "type": "scattergeo",
            "marker": {
             "colorbar": {
              "outlinewidth": 0,
              "ticks": ""
             }
            }
           }
          ],
          "scatterpolar": [
           {
            "type": "scatterpolar",
            "marker": {
             "colorbar": {
              "outlinewidth": 0,
              "ticks": ""
             }
            }
           }
          ],
          "histogram": [
           {
            "marker": {
             "pattern": {
              "fillmode": "overlay",
              "size": 10,
              "solidity": 0.2
             }
            },
            "type": "histogram"
           }
          ],
          "scattergl": [
           {
            "marker": {
             "line": {
              "color": "#283442"
             }
            },
            "type": "scattergl"
           }
          ],
          "scatter3d": [
           {
            "type": "scatter3d",
            "line": {
             "colorbar": {
              "outlinewidth": 0,
              "ticks": ""
             }
            },
            "marker": {
             "colorbar": {
              "outlinewidth": 0,
              "ticks": ""
             }
            }
           }
          ],
          "scattermapbox": [
           {
            "type": "scattermapbox",
            "marker": {
             "colorbar": {
              "outlinewidth": 0,
              "ticks": ""
             }
            }
           }
          ],
          "scatterternary": [
           {
            "type": "scatterternary",
            "marker": {
             "colorbar": {
              "outlinewidth": 0,
              "ticks": ""
             }
            }
           }
          ],
          "scattercarpet": [
           {
            "type": "scattercarpet",
            "marker": {
             "colorbar": {
              "outlinewidth": 0,
              "ticks": ""
             }
            }
           }
          ],
          "carpet": [
           {
            "aaxis": {
             "endlinecolor": "#A2B1C6",
             "gridcolor": "#506784",
             "linecolor": "#506784",
             "minorgridcolor": "#506784",
             "startlinecolor": "#A2B1C6"
            },
            "baxis": {
             "endlinecolor": "#A2B1C6",
             "gridcolor": "#506784",
             "linecolor": "#506784",
             "minorgridcolor": "#506784",
             "startlinecolor": "#A2B1C6"
            },
            "type": "carpet"
           }
          ],
          "table": [
           {
            "cells": {
             "fill": {
              "color": "#506784"
             },
             "line": {
              "color": "rgb(17,17,17)"
             }
            },
            "header": {
             "fill": {
              "color": "#2a3f5f"
             },
             "line": {
              "color": "rgb(17,17,17)"
             }
            },
            "type": "table"
           }
          ],
          "barpolar": [
           {
            "marker": {
             "line": {
              "color": "rgb(17,17,17)",
              "width": 0.5
             },
             "pattern": {
              "fillmode": "overlay",
              "size": 10,
              "solidity": 0.2
             }
            },
            "type": "barpolar"
           }
          ],
          "pie": [
           {
            "automargin": true,
            "type": "pie"
           }
          ]
         },
         "layout": {
          "autotypenumbers": "strict",
          "colorway": [
           "#636efa",
           "#EF553B",
           "#00cc96",
           "#ab63fa",
           "#FFA15A",
           "#19d3f3",
           "#FF6692",
           "#B6E880",
           "#FF97FF",
           "#FECB52"
          ],
          "font": {
           "color": "#f2f5fa"
          },
          "hovermode": "closest",
          "hoverlabel": {
           "align": "left"
          },
          "paper_bgcolor": "rgb(17,17,17)",
          "plot_bgcolor": "rgb(17,17,17)",
          "polar": {
           "bgcolor": "rgb(17,17,17)",
           "angularaxis": {
            "gridcolor": "#506784",
            "linecolor": "#506784",
            "ticks": ""
           },
           "radialaxis": {
            "gridcolor": "#506784",
            "linecolor": "#506784",
            "ticks": ""
           }
          },
          "ternary": {
           "bgcolor": "rgb(17,17,17)",
           "aaxis": {
            "gridcolor": "#506784",
            "linecolor": "#506784",
            "ticks": ""
           },
           "baxis": {
            "gridcolor": "#506784",
            "linecolor": "#506784",
            "ticks": ""
           },
           "caxis": {
            "gridcolor": "#506784",
            "linecolor": "#506784",
            "ticks": ""
           }
          },
          "coloraxis": {
           "colorbar": {
            "outlinewidth": 0,
            "ticks": ""
           }
          },
          "colorscale": {
           "sequential": [
            [
             0.0,
             "#0d0887"
            ],
            [
             0.1111111111111111,
             "#46039f"
            ],
            [
             0.2222222222222222,
             "#7201a8"
            ],
            [
             0.3333333333333333,
             "#9c179e"
            ],
            [
             0.4444444444444444,
             "#bd3786"
            ],
            [
             0.5555555555555556,
             "#d8576b"
            ],
            [
             0.6666666666666666,
             "#ed7953"
            ],
            [
             0.7777777777777778,
             "#fb9f3a"
            ],
            [
             0.8888888888888888,
             "#fdca26"
            ],
            [
             1.0,
             "#f0f921"
            ]
           ],
           "sequentialminus": [
            [
             0.0,
             "#0d0887"
            ],
            [
             0.1111111111111111,
             "#46039f"
            ],
            [
             0.2222222222222222,
             "#7201a8"
            ],
            [
             0.3333333333333333,
             "#9c179e"
            ],
            [
             0.4444444444444444,
             "#bd3786"
            ],
            [
             0.5555555555555556,
             "#d8576b"
            ],
            [
             0.6666666666666666,
             "#ed7953"
            ],
            [
             0.7777777777777778,
             "#fb9f3a"
            ],
            [
             0.8888888888888888,
             "#fdca26"
            ],
            [
             1.0,
             "#f0f921"
            ]
           ],
           "diverging": [
            [
             0,
             "#8e0152"
            ],
            [
             0.1,
             "#c51b7d"
            ],
            [
             0.2,
             "#de77ae"
            ],
            [
             0.3,
             "#f1b6da"
            ],
            [
             0.4,
             "#fde0ef"
            ],
            [
             0.5,
             "#f7f7f7"
            ],
            [
             0.6,
             "#e6f5d0"
            ],
            [
             0.7,
             "#b8e186"
            ],
            [
             0.8,
             "#7fbc41"
            ],
            [
             0.9,
             "#4d9221"
            ],
            [
             1,
             "#276419"
            ]
           ]
          },
          "xaxis": {
           "gridcolor": "#283442",
           "linecolor": "#506784",
           "ticks": "",
           "title": {
            "standoff": 15
           },
           "zerolinecolor": "#283442",
           "automargin": true,
           "zerolinewidth": 2
          },
          "yaxis": {
           "gridcolor": "#283442",
           "linecolor": "#506784",
           "ticks": "",
           "title": {
            "standoff": 15
           },
           "zerolinecolor": "#283442",
           "automargin": true,
           "zerolinewidth": 2
          },
          "scene": {
           "xaxis": {
            "backgroundcolor": "rgb(17,17,17)",
            "gridcolor": "#506784",
            "linecolor": "#506784",
            "showbackground": true,
            "ticks": "",
            "zerolinecolor": "#C8D4E3",
            "gridwidth": 2
           },
           "yaxis": {
            "backgroundcolor": "rgb(17,17,17)",
            "gridcolor": "#506784",
            "linecolor": "#506784",
            "showbackground": true,
            "ticks": "",
            "zerolinecolor": "#C8D4E3",
            "gridwidth": 2
           },
           "zaxis": {
            "backgroundcolor": "rgb(17,17,17)",
            "gridcolor": "#506784",
            "linecolor": "#506784",
            "showbackground": true,
            "ticks": "",
            "zerolinecolor": "#C8D4E3",
            "gridwidth": 2
           }
          },
          "shapedefaults": {
           "line": {
            "color": "#f2f5fa"
           }
          },
          "annotationdefaults": {
           "arrowcolor": "#f2f5fa",
           "arrowhead": 0,
           "arrowwidth": 1
          },
          "geo": {
           "bgcolor": "rgb(17,17,17)",
           "landcolor": "rgb(17,17,17)",
           "subunitcolor": "#506784",
           "showland": true,
           "showlakes": true,
           "lakecolor": "rgb(17,17,17)"
          },
          "title": {
           "x": 0.05
          },
          "updatemenudefaults": {
           "bgcolor": "#506784",
           "borderwidth": 0
          },
          "sliderdefaults": {
           "bgcolor": "#C8D4E3",
           "borderwidth": 1,
           "bordercolor": "rgb(17,17,17)",
           "tickwidth": 0
          },
          "mapbox": {
           "style": "dark"
          }
         }
        },
        "xaxis": {
         "anchor": "y",
         "domain": [
          0.0,
          1.0
         ],
         "title": {
          "text": "pca0",
          "font": {
           "size": 20
          }
         },
         "tickfont": {
          "size": 15
         }
        },
        "yaxis": {
         "anchor": "x",
         "domain": [
          0.0,
          1.0
         ],
         "title": {
          "text": "pca1",
          "font": {
           "size": 20
          }
         },
         "tickfont": {
          "size": 15
         }
        },
        "legend": {
         "title": {
          "text": "Element Type"
         },
         "tracegroupgap": 0
        },
        "title": {
         "text": "Element Type Distribution"
        }
       },
       "config": {
        "plotlyServerURL": "https://plot.ly"
       }
      },
      "text/html": "<div>                            <div id=\"d097a067-5d34-4d0a-be0c-7c0cedd34cbc\" class=\"plotly-graph-div\" style=\"height:525px; width:100%;\"></div>            <script type=\"text/javascript\">                require([\"plotly\"], function(Plotly) {                    window.PLOTLYENV=window.PLOTLYENV || {};                                    if (document.getElementById(\"d097a067-5d34-4d0a-be0c-7c0cedd34cbc\")) {                    Plotly.newPlot(                        \"d097a067-5d34-4d0a-be0c-7c0cedd34cbc\",                        [{\"customdata\":[[\"Anubis\",\"Epic\"],[\"Dazemu\",\"Rare\"],[\"Digtoise\",\"Rare\"],[\"Dumud\",\"Common\"],[\"Eikthyrdeer Terra\",\"Rare\"],[\"Fuddler\",\"Common\"],[\"Gorirat Terra\",\"Rare\"],[\"Gumoss\",\"Common\"],[\"Hangyu\",\"Common\"],[\"Kikit\",\"Common\"],[\"Knocklem\",\"Epic\"],[\"Menasting\",\"Epic\"],[\"Menasting Terra\",\"Epic\"],[\"Prixter\",\"Rare\"],[\"Reptyro\",\"Rare\"],[\"Reptyro Cryst\",\"Rare\"],[\"Robinquill Terra\",\"Rare\"],[\"Rushoar\",\"Common\"],[\"Surfent Terra\",\"Rare\"],[\"Warsect\",\"Epic\"],[\"Warsect Terra\",\"Epic\"]],\"hovertemplate\":\"Element Type=Earth<br>pca0=%{x}<br>pca1=%{y}<br>Name=%{customdata[0]}<br>Rarity=%{customdata[1]}<extra></extra>\",\"legendgroup\":\"Earth\",\"marker\":{\"color\":\"#636efa\",\"symbol\":\"circle\"},\"mode\":\"markers\",\"name\":\"Earth\",\"orientation\":\"v\",\"showlegend\":true,\"x\":[0.09308228510920856,-0.718219665993643,-0.5947719999996408,-0.002973118803545749,-0.6957731927445605,-1.1546154845497372,-0.23378780129978405,-1.1721824380520165,-1.271579643198406,-0.6541006714822448,1.96360336389104,0.8162738995848429,1.1617253976725264,-0.26346847957674036,0.7740653844877153,0.9261189962223287,-0.8794615257748003,-1.0427911889784576,0.15273302932885457,0.736648825202566,1.0821003232902495],\"xaxis\":\"x\",\"y\":[0.9615179434141331,1.997219463296201,-0.9695888803203881,-0.5370083033708403,0.9306112789120982,-0.515785518128715,-0.023054794391709342,-0.7757105135133161,-0.2017534307875712,1.0577814256932025,-1.1292987160771517,1.46078033410915,1.2810516178813254,-1.1136609772492114,-1.2669165477007598,-1.3441003357725931,0.5506450200890539,0.14459957437066803,-0.4101105410160973,-0.9002377983767893,-1.0799665146046151],\"yaxis\":\"y\",\"type\":\"scatter\"},{\"customdata\":[[\"Arsox\",\"Common\"],[\"Blazamut\",\"Epic\"],[\"Blazamut Ryu\",\"Epic\"],[\"Blazehowl\",\"Rare\"],[\"Blazehowl Noct\",\"Epic\"],[\"Bushi\",\"Rare\"],[\"Bushi Noct\",\"Rare\"],[\"Chillet Ignis\",\"Rare\"],[\"Faleris\",\"Epic\"],[\"Flambelle\",\"Common\"],[\"Foxparks\",\"Common\"],[\"Gobfin Ignis\",\"Common\"],[\"Incineram\",\"Common\"],[\"Jormuntide Ignis\",\"Epic\"],[\"Katress Ignis\",\"Rare\"],[\"Kelpsea Ignis\",\"Common\"],[\"Kitsun\",\"Rare\"],[\"Leezpunk Ignis\",\"Common\"],[\"Pyrin\",\"Rare\"],[\"Pyrin Noct\",\"Rare\"],[\"Ragnahawk\",\"Rare\"],[\"Reptyro\",\"Rare\"],[\"Rooby\",\"Common\"],[\"Sootseer\",\"Rare\"],[\"Suzaku\",\"Epic\"],[\"Vanwyrm\",\"Common\"],[\"Wixen\",\"Rare\"],[\"Wixen Noct\",\"Rare\"]],\"hovertemplate\":\"Element Type=Fire<br>pca0=%{x}<br>pca1=%{y}<br>Name=%{customdata[0]}<br>Rarity=%{customdata[1]}<extra></extra>\",\"legendgroup\":\"Fire\",\"marker\":{\"color\":\"#EF553B\",\"symbol\":\"circle\"},\"mode\":\"markers\",\"name\":\"Fire\",\"orientation\":\"v\",\"showlegend\":true,\"x\":[-0.40606541128295154,2.0133280019950894,2.0134059426809605,-0.22554108694761563,-0.11508286721796124,-0.06036130064882829,-0.06034615693517302,-0.08485831304549264,0.7032644593302875,-0.7613092364863823,-1.2647832573906295,-1.0020848502571111,0.030168894012663146,1.6596947463678593,-0.19989191523948607,-1.1934587655182989,-0.5262489658922028,-1.0572792753448041,0.7018871083349315,0.8918772603493168,0.7019884695040476,0.7740653844877153,-0.6047334393490956,0.06870260783999721,1.7797709930334895,-0.11520183261222088,-0.5593748121061327,-0.2139080967139676],\"xaxis\":\"x\",\"y\":[0.38216410263210154,-0.3108348235296332,-0.30833611969570396,0.8205962512620661,0.7006539537263531,0.396981851570129,0.3976590731022023,0.23773485221826463,2.068721019264473,-1.1154906128192168,-0.22774586927449222,-0.43938583345001214,0.6920632861576645,-1.0175811645061401,-0.4730639263723213,1.1244354435866386,0.8519766762983682,-0.20897511487493015,1.4073358238827607,1.308129932933782,1.3190165258860376,-1.2669165477007598,-0.5035752223006464,1.0069745816273954,0.4844244995114999,0.5854306983650235,-0.2943660626193594,-0.47372400981527685],\"yaxis\":\"y\",\"type\":\"scatter\"},{\"customdata\":[[\"Astegon\",\"Epic\"],[\"Azurobe\",\"Rare\"],[\"Blazamut Ryu\",\"Epic\"],[\"Chillet\",\"Common\"],[\"Chillet Ignis\",\"Rare\"],[\"Dinossom\",\"Rare\"],[\"Dinossom Lux\",\"Rare\"],[\"Elphidran\",\"Rare\"],[\"Elphidran Aqua\",\"Epic\"],[\"Jetragon\",\"Legendary\"],[\"Jormuntide\",\"Epic\"],[\"Jormuntide Ignis\",\"Epic\"],[\"Orserk\",\"Epic\"],[\"Quivern\",\"Rare\"],[\"Quivern Botan\",\"Epic\"],[\"Relaxaurus\",\"Epic\"],[\"Relaxaurus Lux\",\"Epic\"],[\"Xenogard\",\"Epic\"]],\"hovertemplate\":\"Element Type=Dragon<br>pca0=%{x}<br>pca1=%{y}<br>Name=%{customdata[0]}<br>Rarity=%{customdata[1]}<extra></extra>\",\"legendgroup\":\"Dragon\",\"marker\":{\"color\":\"#00cc96\",\"symbol\":\"circle\"},\"mode\":\"markers\",\"name\":\"Dragon\",\"orientation\":\"v\",\"showlegend\":true,\"x\":[1.2114283735517648,0.31251748914489136,2.0134059426809605,-0.430309811133176,-0.08485831304549264,-0.5032582153709992,-0.4548816817928554,0.18480295431430319,0.21595499175844726,1.3900476402260955,1.597485628866314,1.6596947463678593,1.2545615783273005,0.7390009173368071,1.0844524154244906,1.9153261888201334,1.963748576260448,1.4237361529046821],\"xaxis\":\"x\",\"y\":[-0.379473859662711,-0.017029230549350537,-0.30833611969570396,0.41746356844609017,0.23773485221826463,0.08221996173699112,0.05767355719225714,0.1323081741654283,0.1178896471051001,8.09029051503522,-0.9864941995547305,-1.0175811645061401,1.0194398982208621,0.6184118848302346,0.4386831686024091,-0.8238972229822268,-0.8466798047220938,0.7383461728400403],\"yaxis\":\"y\",\"type\":\"scatter\"},{\"customdata\":[[\"Astegon\",\"Epic\"],[\"Bellanoir\",\"Legendary\"],[\"Bellanoir Libero\",\"Legendary\"],[\"Blazehowl Noct\",\"Epic\"],[\"Bushi Noct\",\"Rare\"],[\"Cawgnito\",\"Common\"],[\"Daedream\",\"Common\"],[\"Depresso\",\"Common\"],[\"Felbat\",\"Rare\"],[\"Frostallion Noct\",\"Legendary\"],[\"Helzephyr\",\"Rare\"],[\"Helzephyr Lux\",\"Epic\"],[\"Hoocrates\",\"Common\"],[\"Incineram\",\"Common\"],[\"Incineram Noct\",\"Rare\"],[\"Katress\",\"Rare\"],[\"Katress Ignis\",\"Rare\"],[\"Killamari\",\"Common\"],[\"Leezpunk\",\"Common\"],[\"Loupmoon\",\"Common\"],[\"Lyleen Noct\",\"Epic\"],[\"Maraith\",\"Rare\"],[\"Mau\",\"Common\"],[\"Menasting\",\"Epic\"],[\"Necromus\",\"Legendary\"],[\"Nox\",\"Rare\"],[\"Prixter\",\"Rare\"],[\"Pyrin Noct\",\"Rare\"],[\"Selyne\",\"Epic\"],[\"Shadowbeak\",\"Epic\"],[\"Shroomer Noct\",\"Rare\"],[\"Sootseer\",\"Rare\"],[\"Tombat\",\"Rare\"],[\"Vanwyrm\",\"Common\"],[\"Vanwyrm Cryst\",\"Rare\"],[\"Wixen Noct\",\"Rare\"],[\"Xenovader\",\"Rare\"]],\"hovertemplate\":\"Element Type=Dark<br>pca0=%{x}<br>pca1=%{y}<br>Name=%{customdata[0]}<br>Rarity=%{customdata[1]}<extra></extra>\",\"legendgroup\":\"Dark\",\"marker\":{\"color\":\"#ab63fa\",\"symbol\":\"circle\"},\"mode\":\"markers\",\"name\":\"Dark\",\"orientation\":\"v\",\"showlegend\":true,\"x\":[1.2114283735517646,1.8431899682012587,1.8431899682012587,-0.11508286721796124,-0.06034615693517302,-0.9842978078793119,-1.1647714907072206,-1.262183456489644,-0.8969372987901987,1.3397636011058178,1.0879222448053099,1.4333903368726613,-1.261360583826155,0.030168894012663146,0.06127362732862437,-0.1999236529328094,-0.19989191523948607,-1.2094352732424385,-1.0281928221704917,-0.79293000401948,1.0057191926030877,-1.0798997343787287,-1.2783336861502133,0.8162738995848429,1.4669306770863324,-1.1132121455100925,-0.26346847957674036,0.8918772603493168,1.6591435317011787,1.5107213641231876,-0.15834077565371316,0.06870260783999721,-0.30739178302755726,-0.11520183261222088,-0.028796628308760605,-0.2139080967139676,0.7093937454986385],\"xaxis\":\"x\",\"y\":[-0.3794738596627065,-0.7512386606753331,-0.7512386606753331,0.7006539537263531,0.3976590731022023,2.18369769354444,-0.4242920979854079,-0.7957741343705026,0.2739719825455667,1.9146251563427787,0.4910900580612605,0.3113803906216115,-0.29866272092757445,0.6920632861576645,0.6765391090363662,-0.4737601966925712,-0.4730639263723213,-0.21333768657577493,0.7202888245379271,0.6122714083096588,-1.2412656254581753,0.7513016223637742,-0.039407446238541734,1.46078033410915,1.7592274566155905,-0.6397527627739436,-1.1136609772492114,1.308129932933782,-1.5372545535433564,0.7853682472992901,-0.45343204188718167,1.0069745816273954,-0.6304119535542706,0.5854306983650235,0.5421219947615251,-0.47372400981527685,-0.4328554904236454],\"yaxis\":\"y\",\"type\":\"scatter\"},{\"customdata\":[[\"Azurobe\",\"Rare\"],[\"Broncherry Aqua\",\"Epic\"],[\"Celaray\",\"Common\"],[\"Croajiro\",\"Common\"],[\"Elphidran Aqua\",\"Epic\"],[\"Fuack\",\"Common\"],[\"Gobfin\",\"Common\"],[\"Jormuntide\",\"Epic\"],[\"Kelpsea\",\"Common\"],[\"Pengullet\",\"Common\"],[\"Penking\",\"Rare\"],[\"Relaxaurus\",\"Epic\"],[\"Surfent\",\"Common\"],[\"Suzaku Aqua\",\"Epic\"],[\"Teafant\",\"Common\"]],\"hovertemplate\":\"Element Type=Water<br>pca0=%{x}<br>pca1=%{y}<br>Name=%{customdata[0]}<br>Rarity=%{customdata[1]}<extra></extra>\",\"legendgroup\":\"Water\",\"marker\":{\"color\":\"#FFA15A\",\"symbol\":\"circle\"},\"mode\":\"markers\",\"name\":\"Water\",\"orientation\":\"v\",\"showlegend\":true,\"x\":[0.3125174891448912,-0.5493944292010943,-0.6349209946484721,-0.9196601644473154,0.21595499175844726,-1.2379059322977324,-0.9882677591777429,1.597485628866314,-1.1865503945438034,-1.2503210458026988,0.2455332971717488,1.9153261888201334,0.12152059913248892,1.873070801272976,-1.2794532792483546],\"xaxis\":\"x\",\"y\":[-0.017029230549349374,-0.7715015220909198,0.059757179674022914,-0.8293960664244452,0.1178896471051001,-0.7044023193767541,-0.44664222609757276,-0.9864941995547305,1.1207879419084525,0.16419982279554607,-0.7730844391473632,-0.8238972229822268,-0.39825554745390007,0.43643935245401,-0.7671343919223437],\"yaxis\":\"y\",\"type\":\"scatter\"},{\"customdata\":[[\"Beakon\",\"Rare\"],[\"Dazzi\",\"Common\"],[\"Dinossom Lux\",\"Rare\"],[\"Grizzbolt\",\"Epic\"],[\"Helzephyr Lux\",\"Epic\"],[\"Jolthog\",\"Common\"],[\"Mossanda Lux\",\"Rare\"],[\"Orserk\",\"Epic\"],[\"Rayhound\",\"Rare\"],[\"Relaxaurus Lux\",\"Epic\"],[\"Sparkit\",\"Common\"],[\"Univolt\",\"Rare\"]],\"hovertemplate\":\"Element Type=Electricity<br>pca0=%{x}<br>pca1=%{y}<br>Name=%{customdata[0]}<br>Rarity=%{customdata[1]}<extra></extra>\",\"legendgroup\":\"Electricity\",\"marker\":{\"color\":\"#19d3f3\",\"symbol\":\"circle\"},\"mode\":\"markers\",\"name\":\"Electricity\",\"orientation\":\"v\",\"showlegend\":true,\"x\":[0.9673599147743647,-1.1434541558624964,-0.4548816817928554,1.0437519339307058,1.4333903368726613,-1.2578750645232155,0.6607092803936644,1.2545615783273005,-0.2802272180774274,1.963748576260448,-1.2686222918715215,-0.14211089906776717],\"xaxis\":\"x\",\"y\":[0.8616461239300199,-0.11629592170985532,0.05767355719225714,-1.17990554592636,0.3113803906216115,-0.25163044801248674,-0.6684764929503912,1.0194398982208621,1.3073299815296875,-0.8466798047220938,-0.43771171806290543,1.1153925439286692],\"yaxis\":\"y\",\"type\":\"scatter\"},{\"customdata\":[[\"Beegarde\",\"Common\"],[\"Bristla\",\"Common\"],[\"Broncherry\",\"Rare\"],[\"Broncherry Aqua\",\"Epic\"],[\"Caprity\",\"Common\"],[\"Cinnamoth\",\"Common\"],[\"Dinossom\",\"Rare\"],[\"Elizabee\",\"Epic\"],[\"Flopie\",\"Common\"],[\"Gumoss\",\"Common\"],[\"Lifmunk\",\"Common\"],[\"Lullu\",\"Common\"],[\"Lyleen\",\"Epic\"],[\"Mammorest\",\"Epic\"],[\"Mossanda\",\"Rare\"],[\"Petallia\",\"Epic\"],[\"Quivern Botan\",\"Epic\"],[\"Robinquill\",\"Rare\"],[\"Robinquill Terra\",\"Rare\"],[\"Shroomer\",\"Common\"],[\"Shroomer Noct\",\"Rare\"],[\"Tanzee\",\"Common\"],[\"Vaelet\",\"Epic\"],[\"Verdash\",\"Epic\"],[\"Warsect\",\"Epic\"],[\"Wumpo Botan\",\"Epic\"]],\"hovertemplate\":\"Element Type=Leaf<br>pca0=%{x}<br>pca1=%{y}<br>Name=%{customdata[0]}<br>Rarity=%{customdata[1]}<extra></extra>\",\"legendgroup\":\"Leaf\",\"marker\":{\"color\":\"#FF6692\",\"symbol\":\"circle\"},\"mode\":\"markers\",\"name\":\"Leaf\",\"orientation\":\"v\",\"showlegend\":true,\"x\":[-0.973826041932345,-1.2300053274175178,-0.6150427630414206,-0.5493944292010943,-0.7565649758956958,0.34608442141453666,-0.5032582153709992,0.7363345696968324,-1.2022871366208119,-1.1721824380520165,-1.2751625357365122,-0.4414492271327291,0.8502112208160378,1.6415712307418593,0.51898846138905,-0.38219960071761555,1.0844524154244906,-0.914005475429543,-0.8794615257748003,-0.3587091515390634,-0.15834077565371316,-1.182488495808836,-0.9460902528805166,-0.8627426181431658,0.736648825202566,0.3457625910755863],\"xaxis\":\"x\",\"y\":[-0.08355181382143768,-0.21852468792993546,-0.7379328901227504,-0.7715015220909198,-0.421463184038411,-0.45270482484465757,0.08221996173699112,-0.9185705829018262,-0.1302927126968445,-0.7757105135133161,-0.2635611298897451,-0.10006760425746071,-1.1622773919016551,-1.4298060608984702,-0.5980604843967658,0.08554701349055867,0.4386831686024091,0.5686508642271129,0.5506450200890539,-0.3494900360162147,-0.45343204188718167,-0.773099028036529,-0.24446348854830535,0.12578849791556987,-0.9002377983767893,-1.054955753510823],\"yaxis\":\"y\",\"type\":\"scatter\"},{\"customdata\":[[\"Cattiva\",\"Common\"],[\"Chikipi\",\"Common\"],[\"Cremis\",\"Common\"],[\"Direhowl\",\"Common\"],[\"Dogen\",\"Rare\"],[\"Eikthyrdeer\",\"Common\"],[\"Fenglope\",\"Common\"],[\"Galeclaw\",\"Common\"],[\"Gorirat\",\"Rare\"],[\"Grintale\",\"Rare\"],[\"Kingpaca\",\"Epic\"],[\"Lamball\",\"Common\"],[\"Lovander\",\"Rare\"],[\"Lunaris\",\"Rare\"],[\"Melpaca\",\"Common\"],[\"Mimog\",\"Rare\"],[\"Mozzarina\",\"Common\"],[\"Nitewing\",\"Common\"],[\"Paladius\",\"Legendary\"],[\"Ribbuny\",\"Common\"],[\"Selyne\",\"Epic\"],[\"Tocotoco\",\"Common\"],[\"Vixy\",\"Common\"],[\"Woolipop\",\"Common\"],[\"Yakumo\",\"Common\"]],\"hovertemplate\":\"Element Type=Normal<br>pca0=%{x}<br>pca1=%{y}<br>Name=%{customdata[0]}<br>Rarity=%{customdata[1]}<extra></extra>\",\"legendgroup\":\"Normal\",\"marker\":{\"color\":\"#B6E880\",\"symbol\":\"circle\"},\"mode\":\"markers\",\"name\":\"Normal\",\"orientation\":\"v\",\"showlegend\":true,\"x\":[-1.2786163685514897,-1.2787876841278671,-1.1340892374651361,-0.9575074392397712,-0.0900960805448481,-0.716500051319935,-0.8432816459412559,-0.9282033413583618,-0.9281293155531765,0.28119660717347306,0.38102335940432913,-1.2786389540030374,-0.7751245774079198,-1.0149056945682788,-0.6761280505984043,0.5041636306555599,-0.7176456273859987,0.5542913612084621,1.424457203481327,-1.2243200266321093,1.6591435317011787,-1.2478678216330634,-1.2790999933828446,-1.1237887207450228,-0.463187816553116],\"xaxis\":\"x\",\"y\":[-0.24148099663643746,-0.25688716193110694,-0.7525288963943397,1.6100552796575076,-1.0228474862774983,0.9413607304025966,1.451754858404415,0.46445780754314886,0.3389615264983265,-0.09399921370514903,-0.46078170957611947,-0.2561613672986469,0.9930005784314763,0.15842241092192366,0.1723812711175377,1.0647471653752623,0.21705468459869462,-0.09341780016182852,1.0502636110891217,-0.9688303423879717,-1.5372545535433564,-0.4668014629316051,-0.5560217572606808,-0.8006124529825772,-0.700423492634402],\"yaxis\":\"y\",\"type\":\"scatter\"},{\"customdata\":[[\"Chillet\",\"Common\"],[\"Cryolinx\",\"Rare\"],[\"Foxcicle\",\"Rare\"],[\"Frostallion\",\"Legendary\"],[\"Hangyu Cryst\",\"Common\"],[\"Jolthog Cryst\",\"Common\"],[\"Kingpaca Cryst\",\"Epic\"],[\"Mammorest Cryst\",\"Epic\"],[\"Mau Cryst\",\"Common\"],[\"Pengullet\",\"Common\"],[\"Penking\",\"Rare\"],[\"Reindrix\",\"Common\"],[\"Reptyro Cryst\",\"Rare\"],[\"Sibelyx\",\"Rare\"],[\"Swee\",\"Common\"],[\"Sweepa\",\"Rare\"],[\"Vanwyrm Cryst\",\"Rare\"],[\"Wumpo\",\"Rare\"]],\"hovertemplate\":\"Element Type=Ice<br>pca0=%{x}<br>pca1=%{y}<br>Name=%{customdata[0]}<br>Rarity=%{customdata[1]}<extra></extra>\",\"legendgroup\":\"Ice\",\"marker\":{\"color\":\"#FF97FF\",\"symbol\":\"circle\"},\"mode\":\"markers\",\"name\":\"Ice\",\"orientation\":\"v\",\"showlegend\":true,\"x\":[-0.430309811133176,1.2945561917425783,-0.33366265056268507,1.298219150031036,-1.271549006640718,-1.254358935043372,0.48465451010780186,1.6864782605539117,-1.2748638332537436,-1.2503210458026988,0.2455332971717488,-0.6553346054165966,0.9261189962223287,0.41464599393314344,-1.2173894940331973,0.5868173301372752,-0.028796628308760605,0.4147880226969093],\"xaxis\":\"x\",\"y\":[0.41746356844609017,-0.005417011669050548,0.19618073278845383,1.9330186983406425,-0.20036037701461218,-0.2512230802427743,-0.5148764634079207,-1.453225241490591,-0.040496059482343354,0.16419982279554607,-0.7730844391473632,0.08973590972108132,-1.3441003357725931,-1.0659761612471592,-0.8515467198625343,-1.4520557595564525,0.5421219947615251,-1.093256476458965],\"yaxis\":\"y\",\"type\":\"scatter\"}],                        {\"template\":{\"data\":{\"histogram2dcontour\":[{\"type\":\"histogram2dcontour\",\"colorbar\":{\"outlinewidth\":0,\"ticks\":\"\"},\"colorscale\":[[0.0,\"#0d0887\"],[0.1111111111111111,\"#46039f\"],[0.2222222222222222,\"#7201a8\"],[0.3333333333333333,\"#9c179e\"],[0.4444444444444444,\"#bd3786\"],[0.5555555555555556,\"#d8576b\"],[0.6666666666666666,\"#ed7953\"],[0.7777777777777778,\"#fb9f3a\"],[0.8888888888888888,\"#fdca26\"],[1.0,\"#f0f921\"]]}],\"choropleth\":[{\"type\":\"choropleth\",\"colorbar\":{\"outlinewidth\":0,\"ticks\":\"\"}}],\"histogram2d\":[{\"type\":\"histogram2d\",\"colorbar\":{\"outlinewidth\":0,\"ticks\":\"\"},\"colorscale\":[[0.0,\"#0d0887\"],[0.1111111111111111,\"#46039f\"],[0.2222222222222222,\"#7201a8\"],[0.3333333333333333,\"#9c179e\"],[0.4444444444444444,\"#bd3786\"],[0.5555555555555556,\"#d8576b\"],[0.6666666666666666,\"#ed7953\"],[0.7777777777777778,\"#fb9f3a\"],[0.8888888888888888,\"#fdca26\"],[1.0,\"#f0f921\"]]}],\"heatmap\":[{\"type\":\"heatmap\",\"colorbar\":{\"outlinewidth\":0,\"ticks\":\"\"},\"colorscale\":[[0.0,\"#0d0887\"],[0.1111111111111111,\"#46039f\"],[0.2222222222222222,\"#7201a8\"],[0.3333333333333333,\"#9c179e\"],[0.4444444444444444,\"#bd3786\"],[0.5555555555555556,\"#d8576b\"],[0.6666666666666666,\"#ed7953\"],[0.7777777777777778,\"#fb9f3a\"],[0.8888888888888888,\"#fdca26\"],[1.0,\"#f0f921\"]]}],\"heatmapgl\":[{\"type\":\"heatmapgl\",\"colorbar\":{\"outlinewidth\":0,\"ticks\":\"\"},\"colorscale\":[[0.0,\"#0d0887\"],[0.1111111111111111,\"#46039f\"],[0.2222222222222222,\"#7201a8\"],[0.3333333333333333,\"#9c179e\"],[0.4444444444444444,\"#bd3786\"],[0.5555555555555556,\"#d8576b\"],[0.6666666666666666,\"#ed7953\"],[0.7777777777777778,\"#fb9f3a\"],[0.8888888888888888,\"#fdca26\"],[1.0,\"#f0f921\"]]}],\"contourcarpet\":[{\"type\":\"contourcarpet\",\"colorbar\":{\"outlinewidth\":0,\"ticks\":\"\"}}],\"contour\":[{\"type\":\"contour\",\"colorbar\":{\"outlinewidth\":0,\"ticks\":\"\"},\"colorscale\":[[0.0,\"#0d0887\"],[0.1111111111111111,\"#46039f\"],[0.2222222222222222,\"#7201a8\"],[0.3333333333333333,\"#9c179e\"],[0.4444444444444444,\"#bd3786\"],[0.5555555555555556,\"#d8576b\"],[0.6666666666666666,\"#ed7953\"],[0.7777777777777778,\"#fb9f3a\"],[0.8888888888888888,\"#fdca26\"],[1.0,\"#f0f921\"]]}],\"surface\":[{\"type\":\"surface\",\"colorbar\":{\"outlinewidth\":0,\"ticks\":\"\"},\"colorscale\":[[0.0,\"#0d0887\"],[0.1111111111111111,\"#46039f\"],[0.2222222222222222,\"#7201a8\"],[0.3333333333333333,\"#9c179e\"],[0.4444444444444444,\"#bd3786\"],[0.5555555555555556,\"#d8576b\"],[0.6666666666666666,\"#ed7953\"],[0.7777777777777778,\"#fb9f3a\"],[0.8888888888888888,\"#fdca26\"],[1.0,\"#f0f921\"]]}],\"mesh3d\":[{\"type\":\"mesh3d\",\"colorbar\":{\"outlinewidth\":0,\"ticks\":\"\"}}],\"scatter\":[{\"marker\":{\"line\":{\"color\":\"#283442\"}},\"type\":\"scatter\"}],\"parcoords\":[{\"type\":\"parcoords\",\"line\":{\"colorbar\":{\"outlinewidth\":0,\"ticks\":\"\"}}}],\"scatterpolargl\":[{\"type\":\"scatterpolargl\",\"marker\":{\"colorbar\":{\"outlinewidth\":0,\"ticks\":\"\"}}}],\"bar\":[{\"error_x\":{\"color\":\"#f2f5fa\"},\"error_y\":{\"color\":\"#f2f5fa\"},\"marker\":{\"line\":{\"color\":\"rgb(17,17,17)\",\"width\":0.5},\"pattern\":{\"fillmode\":\"overlay\",\"size\":10,\"solidity\":0.2}},\"type\":\"bar\"}],\"scattergeo\":[{\"type\":\"scattergeo\",\"marker\":{\"colorbar\":{\"outlinewidth\":0,\"ticks\":\"\"}}}],\"scatterpolar\":[{\"type\":\"scatterpolar\",\"marker\":{\"colorbar\":{\"outlinewidth\":0,\"ticks\":\"\"}}}],\"histogram\":[{\"marker\":{\"pattern\":{\"fillmode\":\"overlay\",\"size\":10,\"solidity\":0.2}},\"type\":\"histogram\"}],\"scattergl\":[{\"marker\":{\"line\":{\"color\":\"#283442\"}},\"type\":\"scattergl\"}],\"scatter3d\":[{\"type\":\"scatter3d\",\"line\":{\"colorbar\":{\"outlinewidth\":0,\"ticks\":\"\"}},\"marker\":{\"colorbar\":{\"outlinewidth\":0,\"ticks\":\"\"}}}],\"scattermapbox\":[{\"type\":\"scattermapbox\",\"marker\":{\"colorbar\":{\"outlinewidth\":0,\"ticks\":\"\"}}}],\"scatterternary\":[{\"type\":\"scatterternary\",\"marker\":{\"colorbar\":{\"outlinewidth\":0,\"ticks\":\"\"}}}],\"scattercarpet\":[{\"type\":\"scattercarpet\",\"marker\":{\"colorbar\":{\"outlinewidth\":0,\"ticks\":\"\"}}}],\"carpet\":[{\"aaxis\":{\"endlinecolor\":\"#A2B1C6\",\"gridcolor\":\"#506784\",\"linecolor\":\"#506784\",\"minorgridcolor\":\"#506784\",\"startlinecolor\":\"#A2B1C6\"},\"baxis\":{\"endlinecolor\":\"#A2B1C6\",\"gridcolor\":\"#506784\",\"linecolor\":\"#506784\",\"minorgridcolor\":\"#506784\",\"startlinecolor\":\"#A2B1C6\"},\"type\":\"carpet\"}],\"table\":[{\"cells\":{\"fill\":{\"color\":\"#506784\"},\"line\":{\"color\":\"rgb(17,17,17)\"}},\"header\":{\"fill\":{\"color\":\"#2a3f5f\"},\"line\":{\"color\":\"rgb(17,17,17)\"}},\"type\":\"table\"}],\"barpolar\":[{\"marker\":{\"line\":{\"color\":\"rgb(17,17,17)\",\"width\":0.5},\"pattern\":{\"fillmode\":\"overlay\",\"size\":10,\"solidity\":0.2}},\"type\":\"barpolar\"}],\"pie\":[{\"automargin\":true,\"type\":\"pie\"}]},\"layout\":{\"autotypenumbers\":\"strict\",\"colorway\":[\"#636efa\",\"#EF553B\",\"#00cc96\",\"#ab63fa\",\"#FFA15A\",\"#19d3f3\",\"#FF6692\",\"#B6E880\",\"#FF97FF\",\"#FECB52\"],\"font\":{\"color\":\"#f2f5fa\"},\"hovermode\":\"closest\",\"hoverlabel\":{\"align\":\"left\"},\"paper_bgcolor\":\"rgb(17,17,17)\",\"plot_bgcolor\":\"rgb(17,17,17)\",\"polar\":{\"bgcolor\":\"rgb(17,17,17)\",\"angularaxis\":{\"gridcolor\":\"#506784\",\"linecolor\":\"#506784\",\"ticks\":\"\"},\"radialaxis\":{\"gridcolor\":\"#506784\",\"linecolor\":\"#506784\",\"ticks\":\"\"}},\"ternary\":{\"bgcolor\":\"rgb(17,17,17)\",\"aaxis\":{\"gridcolor\":\"#506784\",\"linecolor\":\"#506784\",\"ticks\":\"\"},\"baxis\":{\"gridcolor\":\"#506784\",\"linecolor\":\"#506784\",\"ticks\":\"\"},\"caxis\":{\"gridcolor\":\"#506784\",\"linecolor\":\"#506784\",\"ticks\":\"\"}},\"coloraxis\":{\"colorbar\":{\"outlinewidth\":0,\"ticks\":\"\"}},\"colorscale\":{\"sequential\":[[0.0,\"#0d0887\"],[0.1111111111111111,\"#46039f\"],[0.2222222222222222,\"#7201a8\"],[0.3333333333333333,\"#9c179e\"],[0.4444444444444444,\"#bd3786\"],[0.5555555555555556,\"#d8576b\"],[0.6666666666666666,\"#ed7953\"],[0.7777777777777778,\"#fb9f3a\"],[0.8888888888888888,\"#fdca26\"],[1.0,\"#f0f921\"]],\"sequentialminus\":[[0.0,\"#0d0887\"],[0.1111111111111111,\"#46039f\"],[0.2222222222222222,\"#7201a8\"],[0.3333333333333333,\"#9c179e\"],[0.4444444444444444,\"#bd3786\"],[0.5555555555555556,\"#d8576b\"],[0.6666666666666666,\"#ed7953\"],[0.7777777777777778,\"#fb9f3a\"],[0.8888888888888888,\"#fdca26\"],[1.0,\"#f0f921\"]],\"diverging\":[[0,\"#8e0152\"],[0.1,\"#c51b7d\"],[0.2,\"#de77ae\"],[0.3,\"#f1b6da\"],[0.4,\"#fde0ef\"],[0.5,\"#f7f7f7\"],[0.6,\"#e6f5d0\"],[0.7,\"#b8e186\"],[0.8,\"#7fbc41\"],[0.9,\"#4d9221\"],[1,\"#276419\"]]},\"xaxis\":{\"gridcolor\":\"#283442\",\"linecolor\":\"#506784\",\"ticks\":\"\",\"title\":{\"standoff\":15},\"zerolinecolor\":\"#283442\",\"automargin\":true,\"zerolinewidth\":2},\"yaxis\":{\"gridcolor\":\"#283442\",\"linecolor\":\"#506784\",\"ticks\":\"\",\"title\":{\"standoff\":15},\"zerolinecolor\":\"#283442\",\"automargin\":true,\"zerolinewidth\":2},\"scene\":{\"xaxis\":{\"backgroundcolor\":\"rgb(17,17,17)\",\"gridcolor\":\"#506784\",\"linecolor\":\"#506784\",\"showbackground\":true,\"ticks\":\"\",\"zerolinecolor\":\"#C8D4E3\",\"gridwidth\":2},\"yaxis\":{\"backgroundcolor\":\"rgb(17,17,17)\",\"gridcolor\":\"#506784\",\"linecolor\":\"#506784\",\"showbackground\":true,\"ticks\":\"\",\"zerolinecolor\":\"#C8D4E3\",\"gridwidth\":2},\"zaxis\":{\"backgroundcolor\":\"rgb(17,17,17)\",\"gridcolor\":\"#506784\",\"linecolor\":\"#506784\",\"showbackground\":true,\"ticks\":\"\",\"zerolinecolor\":\"#C8D4E3\",\"gridwidth\":2}},\"shapedefaults\":{\"line\":{\"color\":\"#f2f5fa\"}},\"annotationdefaults\":{\"arrowcolor\":\"#f2f5fa\",\"arrowhead\":0,\"arrowwidth\":1},\"geo\":{\"bgcolor\":\"rgb(17,17,17)\",\"landcolor\":\"rgb(17,17,17)\",\"subunitcolor\":\"#506784\",\"showland\":true,\"showlakes\":true,\"lakecolor\":\"rgb(17,17,17)\"},\"title\":{\"x\":0.05},\"updatemenudefaults\":{\"bgcolor\":\"#506784\",\"borderwidth\":0},\"sliderdefaults\":{\"bgcolor\":\"#C8D4E3\",\"borderwidth\":1,\"bordercolor\":\"rgb(17,17,17)\",\"tickwidth\":0},\"mapbox\":{\"style\":\"dark\"}}},\"xaxis\":{\"anchor\":\"y\",\"domain\":[0.0,1.0],\"title\":{\"text\":\"pca0\",\"font\":{\"size\":20}},\"tickfont\":{\"size\":15}},\"yaxis\":{\"anchor\":\"x\",\"domain\":[0.0,1.0],\"title\":{\"text\":\"pca1\",\"font\":{\"size\":20}},\"tickfont\":{\"size\":15}},\"legend\":{\"title\":{\"text\":\"Element Type\"},\"tracegroupgap\":0},\"title\":{\"text\":\"Element Type Distribution\"}},                        {\"responsive\": true}                    ).then(function(){\n                            \nvar gd = document.getElementById('d097a067-5d34-4d0a-be0c-7c0cedd34cbc');\nvar x = new MutationObserver(function (mutations, observer) {{\n        var display = window.getComputedStyle(gd).display;\n        if (!display || display === 'none') {{\n            console.log([gd, 'removed!']);\n            Plotly.purge(gd);\n            observer.disconnect();\n        }}\n}});\n\n// Listen for the removal of the full notebook cells\nvar notebookContainer = gd.closest('#notebook-container');\nif (notebookContainer) {{\n    x.observe(notebookContainer, {childList: true});\n}}\n\n// Listen for the clearing of the current output cell\nvar outputEl = gd.closest('.output');\nif (outputEl) {{\n    x.observe(outputEl, {childList: true});\n}}\n\n                        })                };                });            </script>        </div>"
     },
     "metadata": {},
     "output_type": "display_data"
    },
    {
     "data": {
      "text/plain": "<Figure size 640x480 with 1 Axes>",
      "image/png": "[encoded data removed]"
     },
     "metadata": {},
     "output_type": "display_data"
    },
    {
     "data": {
      "text/plain": "<Figure size 640x480 with 1 Axes>",
      "image/png": "[encoded data removed]"
     },
     "metadata": {},
     "output_type": "display_data"
    },
    {
     "name": "stdout",
     "output_type": "stream",
     "text": [
      "Explained Variance [9.96651678e-01 2.99842558e-03 2.20116042e-04 9.60416579e-05\n",
      " 1.68512801e-05 1.64606426e-05 4.27242055e-07 6.15631806e-36]\n",
      "Explained Variance Cumulative [0.99665168 0.9996501  0.99987022 0.99996626 0.99998311 0.99999957\n",
      " 1.         1.        ]\n"
     ]
    }
   ],
   "source": [
    "def loading_plot(dfx):\n",
    "    \"\"\" creates a loading plot matrix examining the comparison and impact of certain features on PCs\n",
    "    \n",
    "    Args:\n",
    "        dfx (pandas dataframe): a pandas dataframe of all the numerical data for a pal\n",
    "        \n",
    "    Returns:\n",
    "        null: plotting\n",
    "    \"\"\"\n",
    "    #fitting\n",
    "    pca = PCA(whiten = True)\n",
    "    y = pca.fit_transform(dfx.values)\n",
    "    \n",
    "    #plotting\n",
    "    for i, feature in enumerate(dfx.columns):\n",
    "        if feature == 'Avg. Speed' or feature == 'Price':\n",
    "            plt.arrow(0,0, pca.components_[0,i], pca.components_[1,i], color = 'r')\n",
    "            plt.text(pca.components_[0,i]*.9, pca.components_[1,i]*1.05, feature, \n",
    "            color = 'k', fontsize=15)\n",
    "            test = []\n",
    "        else: #Better for readability \n",
    "            plt.arrow(0,0, pca.components_[0,i], pca.components_[1,i], edgecolor = 'black', width = .0005)\n",
    "            plt.text(pca.components_[0,i]*8, pca.components_[1,i]*8, feature, \n",
    "                     color = 'k', fontsize=15)\n",
    "    \n",
    "    #plot details\n",
    "    plt.title('Loading plot', fontsize=20)\n",
    "    plt.xlabel(\"PC0\", fontsize=20)\n",
    "    plt.ylabel('PC1', fontsize=20)\n",
    "    plt.axhline(0, color = 'grey')\n",
    "    plt.axvline(0, color = 'grey')\n",
    "    plt.tight_layout()\n",
    "    #plt.savefig('PCAloading_final.png')\n",
    "    plt.show()\n",
    "\n",
    "\n",
    "def cumsumplot(dfx):\n",
    "    \"\"\" creates a bar plot examining the cumulative explained variance\n",
    "    \n",
    "    Args:\n",
    "        dfx (pandas dataframe): a pandas dataframe of all the numerical data for a pal\n",
    "        \n",
    "    Returns:\n",
    "        null: plotting\n",
    "    \"\"\"\n",
    "    \n",
    "    #fitting\n",
    "    pca = PCA(whiten = True)\n",
    "    y = pca.fit_transform(dfx.values)\n",
    "    \n",
    "    #plot\n",
    "    features = range(pca.n_components_)\n",
    "    plt.bar(features, pca.explained_variance_ratio_, color = 'k')\n",
    "    plt.xlabel('PCA features')\n",
    "    plt.ylabel('variance')\n",
    "    plt.title('percentage of the variance explained by the PCA features')\n",
    "    plt.show()\n",
    "\n",
    "\n",
    "def pca_elt_dist(df):\n",
    "    \"\"\" creates graphs to help analyze the PCA model, as well as Explained Variance data\n",
    "    \n",
    "    Args:\n",
    "        df (pandas dataframe): a pandas dataframe of all the data for pal\n",
    "        \n",
    "    Returns:\n",
    "        null: plotting\n",
    "    \"\"\"\n",
    "    \n",
    "    #Create a copy to preserve original data\n",
    "    pals = copy(df)\n",
    "    \n",
    "    #Select only numerical categories\n",
    "    dfx = df.select_dtypes(include=np.number)\n",
    "    \n",
    "    #fit\n",
    "    pca = PCA(whiten = True)\n",
    "    x_pca = pca.fit_transform(dfx.values)\n",
    "\n",
    "    pals['pca0'] = x_pca[:, 0]\n",
    "    pals['pca1'] = x_pca[:, 1]\n",
    "    \n",
    "    #plotting\n",
    "    fig = px.scatter(pals, x = 'pca0', y = 'pca1', hover_data = ['Name', 'Rarity'], \n",
    "                 color = 'Element Type', title = 'Element Type Distribution', )\n",
    "    fig.update_layout( yaxis = dict( tickfont = dict(size=15), titlefont = dict(size=20)), xaxis = dict( tickfont = dict(size=15), titlefont = dict(size=20)))\n",
    "    #fig.update_yaxes(dict( tickfont = dict(size=30)))\n",
    "    #fig.update_xaxes(tickfont_size=30)\n",
    "    \n",
    "    \n",
    "    #fig.write_image(\"PCAbiPlot.png\") \n",
    "    fig.show()\n",
    "\n",
    "    loading_plot(dfx)\n",
    "    cumsumplot(dfx)\n",
    "    \n",
    "    #Printing explain variance\n",
    "    print('Explained Variance' , pca.explained_variance_ratio_)\n",
    "    print('Explained Variance Cumulative', pca.explained_variance_ratio_.cumsum())\n",
    "\n",
    "\n",
    "#call function\n",
    "pca_elt_dist(df_filtered)"
   ],
   "metadata": {
    "collapsed": false,
    "ExecuteTime": {
     "end_time": "2024-08-18T15:09:02.126390Z",
     "start_time": "2024-08-18T15:09:01.871237Z"
    }
   }
  },
  {
   "cell_type": "markdown",
   "source": [
    "##### Analysis:\n",
    "\n",
    "One would select the number of components by analyzing the explained variance, and choosing the amount to cover at least 90% variance, the cumulative explained variance tells us with just one PC, 99.6% of our variance is explained, which would mean other components do not significantly contribute to variance and are likely highly correlated/redundant. We can deduce that Element Types are not very distinctive, which we can also tell since there is no clear grouping/clustering in the bi-plot. The loading plot shows features that influence the principle components, we can observe that price mainly contributes to PC0 but little to PC1, where avg speed is the opposite, as it primarily contributes to PC1 and little to PC0. All other features have little contribution to either."
   ],
   "metadata": {
    "collapsed": false
   }
  },
  {
   "cell_type": "markdown",
   "metadata": {},
   "source": [
    "## Discussion"
   ]
  },
  {
   "cell_type": "markdown",
   "source": [
    "#### Conclusion\n",
    "\n",
    "Owens Conclusions:\n",
    "\n",
    "- The conclusions of our visualizations and models tend to align with our assumptions. The dragon and dark element types tend to be better on average for a multitude of features, which would help us conclude that they are indeed the best element types. However, we discovered that element types do not seem to have distinctive features. The PCA model showed little variance in the features , meaning the values of each feature are relatively close. Observed in the Bar plots, only Dragons Speed had a significantly larger average than the rest. Observed in the Box Plots, each feature range overlaps a lot with others (Stamina has many 'outliers'.\n",
    "- Both the scatterplot matrix and random forest regression showed us that the health points and price of a pal are heavy indicators of their combat power. Still, we would've expected the level feature to be more than the 4th-ranked importance feature. The heat map also supports that HP and Price are indicators of Combat Power, and Defense and Level, are still very correlated to Combat Power.\n",
    "\n",
    "Kerbs Conclusions:\n",
    "- In model 2 we used a PCA model to better understand the relationship between features and Element type. We concluded that there are little distinctions between certain pal Element Types. We evaluated the model using explained variance and analysis of a bi-plot, the explained variance showed that the ideal amount of PCs would be 1 since its values represent the percent of variance explained, meaning most variance is determined by this one component. We analyzed the bi-plot and concluded there were no obvious signs of clustering/grouping, meaning that distinct Element types do not necessarily have distinct features that could be used to identify them. A potential way to improve this analysis would be to have a larger data set or to use different features like items dropped or workability to distinguish element types. \n",
    "- In model 1 we used a Random Forest Regressor model to predict Combat Power. We concluded that yes, certain features do impact a Pals combat power. Price and health points are features that dictated most of the predictions. We evaluated the model using Root Mean Squared Error (about 0.07) and R-Squared (~90%), meaning that 90% of the variance is explained and that on average our predictions were off by about 0.07 combat power. The scatter plot and heat map also support this as the scatter plot visualizes the linearity between HP, Price, Level, and CP. The heat map visualizes the correlation of features, showing that HP, Price, Defense, and Level are the most important features in determining CP. A potential way to improve this analysis is to use more features, for example, abilities, which have multiple values for each ability (level, power, cooldown, range) which could be analyzed or re-defining combat power. \n",
    "\n",
    "\n",
    "#### Potentials\n",
    "For future work that we could consider, we could possibly find further features and then determine the best pals in the entire game to get. We could also find a different site to pull data from to compare what data is given from two unique pal databases.\n",
    "\n",
    "\n",
    "#### Contribution\n",
    "- Introduction: Owen\n",
    "- Data: Owen\n",
    "- Web Scraping and Cleaning: Owen\n",
    "- Visualization 1: Owen\n",
    "- Visualization 2: Owen\n",
    "- Visualization 3: Kerbs\n",
    "- Visualization 4: Kerbs\n",
    "- Model 1: Owen\n",
    "- Model 2: Kerbs\n",
    "- Discussion: Both"
   ],
   "metadata": {
    "collapsed": false
   }
  },
  {
   "cell_type": "markdown",
   "source": [
    "2 Other Interesting Presentations - Owen\n",
    "\n",
    "- I liked Group 5s project on finding out which features impacted a pals rarity as well as how attributes and health points are related. These were two questions our group didn't consider, and I think they had great plots (i.e. their random forest classifier confusion matrix for predicting rarity, and their rainbow box plot for their comparison of pal attributes and health points) which answered both these questions well. \n",
    "- I also liked Group 7s analysis on if a pal's stats can predict what type they are. I felt this is essentially the inverse of what we were looking at (what element types have better stats). It was interesting to see that their decision tree predicted only 21% of element types correctly, which tells me that there is really no distinctions to a multitude of element types.\n",
    "\n",
    "2 Other Interesting Presentations - Kerbs\n",
    "\n",
    "Group 3:\n",
    "- The rarity distribution prediction was insightful. The bar plot revealed that only certain element types can be legendary. This made me think about my own project, and how perhaps rarity could be a way to find distinctions in element types.\n",
    "- The use of a heat map to show the average price seemed odd to me; I think a bar plot would have been better and simpler for that purpose.\n",
    "- The decision tree was a good model for prediction, and I appreciated the random forest confusion matrices. It makes sense that rare and epic, the two middle rarities, often get confused.\n",
    "\n",
    "Group 2: Rarity and Relation to Features\n",
    "- The first visualization, a scatter plot, was interesting as it showed how features could be balance out (If you have high attack youd probs have low defense or something along those lines).\n",
    "- The second visualization, a box plot, was a good choice, as it clearly demonstrated the distribution and the pattern that HP increases with rarity.\n",
    "- In the third visualization, it was a good decision to exclude legendary types. I wonder if in my project, if excluding them would have impacted our data and made the level a more significant factor.\n",
    "- In the second model, it was intriguing that this group also had the most failed predictions between epic and rare rarities.\n",
    "- I would have liked to see different models used, maybe another could have provided better prediction accuracy."
   ],
   "metadata": {
    "collapsed": false
   }
  },
  {
   "cell_type": "code",
   "execution_count": 30,
   "outputs": [],
   "source": [],
   "metadata": {
    "collapsed": false,
    "ExecuteTime": {
     "end_time": "2024-08-18T15:09:02.129085Z",
     "start_time": "2024-08-18T15:09:02.126719Z"
    }
   }
  }
 ],
 "metadata": {
  "kernelspec": {
   "display_name": "Python 3 (ipykernel)",
   "language": "python",
   "name": "python3"
  },
  "language_info": {
   "codemirror_mode": {
    "name": "ipython",
    "version": 3
   },
   "file_extension": ".py",
   "mimetype": "text/x-python",
   "name": "python",
   "nbconvert_exporter": "python",
   "pygments_lexer": "ipython3",
   "version": "3.11.7"
  }
 },
 "nbformat": 4,
 "nbformat_minor": 4
}
